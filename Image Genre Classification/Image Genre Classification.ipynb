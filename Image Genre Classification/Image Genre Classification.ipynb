{
 "cells": [
  {
   "cell_type": "code",
   "execution_count": 463,
   "id": "3ae6da98",
   "metadata": {},
   "outputs": [],
   "source": [
    "import pandas as pd\n",
    "import numpy as np\n",
    "from sklearn.model_selection import train_test_split \n",
    "from sklearn.feature_extraction.text import TfidfVectorizer\n",
    "from sklearn.preprocessing import LabelEncoder\n",
    "from sklearn.linear_model import LogisticRegression\n",
    "from sklearn.metrics import accuracy_score, classification_report"
   ]
  },
  {
   "cell_type": "code",
   "execution_count": 464,
   "id": "8dd84005",
   "metadata": {},
   "outputs": [],
   "source": [
    "traindata = pd.read_csv(r\"H:\\CodIt Solutions\\Movie Genre Classification\\archive (6)/Movie_combined.csv\", index_col=False)"
   ]
  },
  {
   "cell_type": "code",
   "execution_count": 465,
   "id": "3fc694b7",
   "metadata": {},
   "outputs": [],
   "source": [
    "traindata.drop(\"Unnamed: 0\", axis=1, inplace=True)"
   ]
  },
  {
   "cell_type": "code",
   "execution_count": 466,
   "id": "08dc2f4a",
   "metadata": {},
   "outputs": [
    {
     "data": {
      "text/html": [
       "<div>\n",
       "<style scoped>\n",
       "    .dataframe tbody tr th:only-of-type {\n",
       "        vertical-align: middle;\n",
       "    }\n",
       "\n",
       "    .dataframe tbody tr th {\n",
       "        vertical-align: top;\n",
       "    }\n",
       "\n",
       "    .dataframe thead th {\n",
       "        text-align: right;\n",
       "    }\n",
       "</style>\n",
       "<table border=\"1\" class=\"dataframe\">\n",
       "  <thead>\n",
       "    <tr style=\"text-align: right;\">\n",
       "      <th></th>\n",
       "      <th>Title</th>\n",
       "      <th>Genre</th>\n",
       "      <th>Plot</th>\n",
       "      <th>Poster</th>\n",
       "    </tr>\n",
       "  </thead>\n",
       "  <tbody>\n",
       "    <tr>\n",
       "      <th>0</th>\n",
       "      <td>the great train robbery</td>\n",
       "      <td>action</td>\n",
       "      <td>The film opens with two bandits breaking into ...</td>\n",
       "      <td>https://m.media-amazon.com/images/M/MV5BOWE4M2...</td>\n",
       "    </tr>\n",
       "    <tr>\n",
       "      <th>1</th>\n",
       "      <td>the suburbanite</td>\n",
       "      <td>comedy</td>\n",
       "      <td>The film is about a family who move to the sub...</td>\n",
       "      <td>https://m.media-amazon.com/images/M/MV5BMTUwOT...</td>\n",
       "    </tr>\n",
       "    <tr>\n",
       "      <th>2</th>\n",
       "      <td>how brown saw the baseball game</td>\n",
       "      <td>comedy</td>\n",
       "      <td>Before heading out to a baseball game at a nea...</td>\n",
       "      <td>0</td>\n",
       "    </tr>\n",
       "    <tr>\n",
       "      <th>3</th>\n",
       "      <td>the adventures of dollie</td>\n",
       "      <td>drama</td>\n",
       "      <td>On a beautiful summer day a father and mother ...</td>\n",
       "      <td>https://m.media-amazon.com/images/M/MV5BMDlmYz...</td>\n",
       "    </tr>\n",
       "    <tr>\n",
       "      <th>4</th>\n",
       "      <td>the black viper</td>\n",
       "      <td>drama</td>\n",
       "      <td>A thug accosts a girl as she leaves her workpl...</td>\n",
       "      <td>https://m.media-amazon.com/images/M/MV5BZDVjYT...</td>\n",
       "    </tr>\n",
       "  </tbody>\n",
       "</table>\n",
       "</div>"
      ],
      "text/plain": [
       "                             Title   Genre  \\\n",
       "0          the great train robbery  action   \n",
       "1                  the suburbanite  comedy   \n",
       "2  how brown saw the baseball game  comedy   \n",
       "3         the adventures of dollie   drama   \n",
       "4                  the black viper   drama   \n",
       "\n",
       "                                                Plot  \\\n",
       "0  The film opens with two bandits breaking into ...   \n",
       "1  The film is about a family who move to the sub...   \n",
       "2  Before heading out to a baseball game at a nea...   \n",
       "3  On a beautiful summer day a father and mother ...   \n",
       "4  A thug accosts a girl as she leaves her workpl...   \n",
       "\n",
       "                                              Poster  \n",
       "0  https://m.media-amazon.com/images/M/MV5BOWE4M2...  \n",
       "1  https://m.media-amazon.com/images/M/MV5BMTUwOT...  \n",
       "2                                                  0  \n",
       "3  https://m.media-amazon.com/images/M/MV5BMDlmYz...  \n",
       "4  https://m.media-amazon.com/images/M/MV5BZDVjYT...  "
      ]
     },
     "execution_count": 466,
     "metadata": {},
     "output_type": "execute_result"
    }
   ],
   "source": [
    "traindata.head()"
   ]
  },
  {
   "cell_type": "code",
   "execution_count": 467,
   "id": "59a63459",
   "metadata": {},
   "outputs": [
    {
     "data": {
      "text/plain": [
       "drama        5793\n",
       "comedy       4267\n",
       "action       3611\n",
       "thriller     2107\n",
       "romance       923\n",
       "animation     602\n",
       "Name: Genre, dtype: int64"
      ]
     },
     "execution_count": 467,
     "metadata": {},
     "output_type": "execute_result"
    }
   ],
   "source": [
    "traindata.Genre.value_counts()"
   ]
  },
  {
   "cell_type": "code",
   "execution_count": 468,
   "id": "88227f5b",
   "metadata": {},
   "outputs": [],
   "source": [
    "LE=LabelEncoder()\n",
    "y=LE.fit_transform(traindata['Genre'])"
   ]
  },
  {
   "cell_type": "code",
   "execution_count": 469,
   "id": "c6eeec6f",
   "metadata": {},
   "outputs": [
    {
     "data": {
      "text/plain": [
       "3    5793\n",
       "2    4267\n",
       "0    3611\n",
       "5    2107\n",
       "4     923\n",
       "1     602\n",
       "Name: Genre, dtype: int64"
      ]
     },
     "execution_count": 469,
     "metadata": {},
     "output_type": "execute_result"
    }
   ],
   "source": [
    "X=traindata.Plot\n",
    "y=y\n",
    "X_ = pd.concat([traindata['Plot'], pd.Series(y)], axis=1, keys=['Plot', 'Genre'])\n",
    "\n",
    "X_.head()\n",
    "\n",
    "X_['Genre'].value_counts()\n"
   ]
  },
  {
   "cell_type": "code",
   "execution_count": 470,
   "id": "a8be7db3",
   "metadata": {},
   "outputs": [],
   "source": [
    "X_.head()\n",
    "\n",
    "\n",
    "zero=X_[X_['Genre']==0].sample(n=602)\n",
    "one=X_[X_['Genre']==1].sample(n=602)\n",
    "two=X_[X_['Genre']==2].sample(n=602)\n",
    "three=X_[X_['Genre']==3].sample(n=602)\n",
    "four=X_[X_['Genre']==4].sample(n=602)\n",
    "five=X_[X_['Genre']==5].sample(n=602)"
   ]
  },
  {
   "cell_type": "code",
   "execution_count": 471,
   "id": "27b46091",
   "metadata": {},
   "outputs": [],
   "source": [
    "X_=pd.concat([zero,one,two,three,four,five], axis=0)"
   ]
  },
  {
   "cell_type": "code",
   "execution_count": 472,
   "id": "40701c40",
   "metadata": {},
   "outputs": [
    {
     "data": {
      "text/html": [
       "<div>\n",
       "<style scoped>\n",
       "    .dataframe tbody tr th:only-of-type {\n",
       "        vertical-align: middle;\n",
       "    }\n",
       "\n",
       "    .dataframe tbody tr th {\n",
       "        vertical-align: top;\n",
       "    }\n",
       "\n",
       "    .dataframe thead th {\n",
       "        text-align: right;\n",
       "    }\n",
       "</style>\n",
       "<table border=\"1\" class=\"dataframe\">\n",
       "  <thead>\n",
       "    <tr style=\"text-align: right;\">\n",
       "      <th></th>\n",
       "      <th>Plot</th>\n",
       "      <th>Genre</th>\n",
       "    </tr>\n",
       "  </thead>\n",
       "  <tbody>\n",
       "    <tr>\n",
       "      <th>11434</th>\n",
       "      <td>Toomai (Sabu), a young boy growing up in India...</td>\n",
       "      <td>0</td>\n",
       "    </tr>\n",
       "    <tr>\n",
       "      <th>15346</th>\n",
       "      <td>Vardanunni is the son of famous Kathakali arti...</td>\n",
       "      <td>0</td>\n",
       "    </tr>\n",
       "    <tr>\n",
       "      <th>9073</th>\n",
       "      <td>The clinical psychologist Dr. Chris Kelvin is ...</td>\n",
       "      <td>0</td>\n",
       "    </tr>\n",
       "    <tr>\n",
       "      <th>4982</th>\n",
       "      <td>After meeting a general, war correspondent Dic...</td>\n",
       "      <td>0</td>\n",
       "    </tr>\n",
       "    <tr>\n",
       "      <th>9076</th>\n",
       "      <td>High-school senior Peter Parker lives with his...</td>\n",
       "      <td>0</td>\n",
       "    </tr>\n",
       "  </tbody>\n",
       "</table>\n",
       "</div>"
      ],
      "text/plain": [
       "                                                    Plot  Genre\n",
       "11434  Toomai (Sabu), a young boy growing up in India...      0\n",
       "15346  Vardanunni is the son of famous Kathakali arti...      0\n",
       "9073   The clinical psychologist Dr. Chris Kelvin is ...      0\n",
       "4982   After meeting a general, war correspondent Dic...      0\n",
       "9076   High-school senior Peter Parker lives with his...      0"
      ]
     },
     "execution_count": 472,
     "metadata": {},
     "output_type": "execute_result"
    }
   ],
   "source": [
    "X_.head()"
   ]
  },
  {
   "cell_type": "code",
   "execution_count": 473,
   "id": "ab58dbcf",
   "metadata": {},
   "outputs": [
    {
     "data": {
      "image/png": "[encoded data removed]",
      "text/plain": [
       "<Figure size 500x500 with 1 Axes>"
      ]
     },
     "metadata": {},
     "output_type": "display_data"
    }
   ],
   "source": [
    "import matplotlib.pyplot as plt\n",
    "import pandas as pd\n",
    "\n",
    "# Assuming X_ is a DataFrame with a 'Genre' column containing lists of genres for each example\n",
    "# If 'Genre' is a string with comma-separated genres, you may need to split it into a list first\n",
    "# Example: X_['Genre'] = X_['Genre'].apply(lambda x: x.split(','))\n",
    "\n",
    "# Create a DataFrame with one-hot encoding for each genre\n",
    "genre_df = pd.get_dummies(X_['Genre'].explode()).groupby(level=0).sum()\n",
    "\n",
    "# Plot the bar chart\n",
    "plt.figure(figsize=(5, 5))\n",
    "genre_df.sum().sort_values(ascending=False).plot(kind='bar', color='skyblue')\n",
    "plt.title('Undersampling of Genres')\n",
    "plt.xlabel('Genre')\n",
    "plt.ylabel('Frequency')\n",
    "plt.xticks(rotation=0, ha='right')\n",
    "plt.show()"
   ]
  },
  {
   "cell_type": "code",
   "execution_count": 486,
   "id": "768edb20",
   "metadata": {},
   "outputs": [],
   "source": [
    "def custom_tokenizer(text):\n",
    "    words = re.findall(r'\\b[a-zA-Z]+\\b', text)\n",
    "    return words"
   ]
  },
  {
   "cell_type": "code",
   "execution_count": 487,
   "id": "dbfdb7a1",
   "metadata": {},
   "outputs": [],
   "source": [
    "ex_TfidfVectorizer = TfidfVectorizer(tokenizer=custom_tokenizer, stop_words='english', max_features=5000, lowercase=True)\n",
    "\n",
    "# Fit and transform the 'Genre' column\n",
    "tfidf_matrix = ex_TfidfVectorizer.fit_transform(X_['Plot'])"
   ]
  },
  {
   "cell_type": "code",
   "execution_count": 476,
   "id": "20bfdd00",
   "metadata": {},
   "outputs": [
    {
     "name": "stdout",
     "output_type": "stream",
     "text": [
      "TF-IDF Matrix:\n",
      "[[0. 0. 0. ... 0. 0. 0.]\n",
      " [0. 0. 0. ... 0. 0. 0.]\n",
      " [0. 0. 0. ... 0. 0. 0.]\n",
      " ...\n",
      " [0. 0. 0. ... 0. 0. 0.]\n",
      " [0. 0. 0. ... 0. 0. 0.]\n",
      " [0. 0. 0. ... 0. 0. 0.]]\n",
      "(3612, 5000)\n",
      "{'young': 4984, 'boy': 541, 'growing': 1966, 'india': 2210, 'hunter': 2162, 'meantime': 2821, 'helps': 2064, 'elephant': 1442, 'driver': 1362, 'father': 1640, 'large': 2531, 'family': 1625, 'petersen': 3240, 'walter': 4833, 'hires': 2092, 'annual': 196, 'government': 1920, 'wild': 4903, 'elephants': 1443, 'work': 4948, 'learning': 2560, 'look': 2662, 'allows': 143, 'come': 890, 'seen': 3960, 'region': 3630, 'reputation': 3678, 'north': 3060, 'weeks': 4881, 'hunting': 2164, 'prove': 3459, 'ready': 3575, 'right': 3755, 'hand': 1994, 'man': 2741, 'allan': 136, 'persuades': 3236, 'month': 2926, 'hired': 2091, 'natives': 2998, 'learn': 2558, 's': 3849, 'telling': 4478, 'sees': 3961, 'dance': 1101, 'night': 3042, 'spots': 4219, 'tiger': 4548, 'near': 3004, 'camp': 646, 'wakes': 4822, 'shoot': 4052, 'beast': 407, 'killed': 2458, 'grief': 1958, 'intense': 2264, 'stopping': 4288, 'decides': 1143, 'cruel': 1059, 'bruce': 586, 'gordon': 1915, 'job': 2367, 'beats': 411, 'injures': 2234, 'insists': 2248, 'destroyed': 1209, 'law': 2546, 'manages': 2745, 'change': 750, 'mind': 2882, 'accept': 20, 'instead': 2252, 'threatening': 4531, 'removed': 3660, 'safety': 3862, 'unaware': 4688, 'takes': 4430, 'runs': 3839, 'away': 342, 'jungle': 2406, 'missing': 2897, 'dancing': 1104, 'leads': 2554, 'offers': 3096, 'train': 4607, 'plan': 3293, 'son': 4165, 'famous': 1626, 'artist': 261, 'master': 2799, 'dream': 1350, 'make': 2728, 'having': 2031, 'dad': 1090, 'earn': 1401, 'art': 257, 'bangalore': 372, 'gets': 1869, 'mumbai': 2957, 'performance': 3224, 'goes': 1899, 'new': 3029, 'daughter': 1116, 'happen': 2005, 'witness': 4930, 'murder': 2959, 'popular': 3341, 'politician': 3331, 'hands': 1996, 'magician': 2721, 'turned': 4670, 'underworld': 4699, 'don': 1319, 'shankar': 4016, 'alias': 128, 'kills': 2462, 'eliminate': 1445, 'proof': 3445, 'called': 636, 'close': 851, 'mobile': 2908, 'informed': 2223, 'saw': 3903, 'comes': 892, 'know': 2486, 'murdered': 2960, 'meet': 2830, 'tries': 4643, 'beat': 408, 'anger': 177, 'arrested': 248, 'beaten': 409, 'badly': 354, 'rescued': 3683, 'score': 3923, 'settle': 4000, 'decide': 1141, 'revenge': 3733, 'trap': 4616, 'end': 1480, 'movie': 2948, 'kill': 2457, 'dr': 1337, 'chris': 800, 'kelvin': 2438, 'approached': 221, 'operating': 3115, 'space': 4186, 'station': 4254, 'planet': 3295, 'message': 2854, 'sent': 3976, 'scientist': 3920, 'friend': 1800, 'requests': 3680, 'help': 2061, 'understand': 4695, 'unusual': 4722, 'unwilling': 4723, 'explain': 1573, 'unsure': 4721, 'proceed': 3424, 'mission': 2898, 'study': 4325, 'want': 4836, 'return': 3720, 'home': 2110, 'addition': 59, 'lost': 2674, 'contact': 964, 'security': 3951, 'patrol': 3205, 'recently': 3599, 'agrees': 101, 'attempt': 304, 'bring': 568, 'crew': 1045, 'safely': 3861, 'arriving': 254, 'learns': 2561, 'committed': 904, 'suicide': 4355, 'died': 1244, 'disappeared': 1265, 'bizarre': 479, 'circumstances': 813, 'surviving': 4394, 'members': 2837, 'snow': 4155, 'reluctant': 3648, 'situation': 4114, 'complicated': 920, 'running': 3838, 'dreams': 1351, 'dead': 1126, 'wife': 4901, 'met': 2856, 'romantic': 3800, 'moments': 2916, 'awakens': 339, 'shocked': 4050, 'terrified': 4490, 'encounter': 1476, 'apparently': 214, 'alive': 134, 'bed': 414, 'escape': 1525, 'pod': 3319, 'afterward': 88, 'confides': 938, 'actions': 43, 'loved': 2682, 'ones': 3109, 'mysteriously': 2976, 'appearing': 218, 'little': 2629, 'earlier': 1399, 'second': 3943, 'time': 4552, 'lets': 2586, 'stay': 4258, 'gradually': 1928, 'version': 4762, 'realize': 3581, 'does': 1307, 'feel': 1654, 'human': 2154, 'memories': 2839, 'emotional': 1466, 'actually': 53, 'lived': 2633, 'numerous': 3073, 'flashbacks': 1708, 'meeting': 2831, 'disturbed': 1292, 'revealed': 3729, 'pregnancy': 3383, 'did': 1241, 'tell': 4477, 'discovered': 1271, 'choice': 795, 'distraught': 1290, 'later': 2536, 'returned': 3721, 'discuss': 1275, 'frustration': 1808, 'apparent': 213, 'previous': 3404, 'abandons': 5, 'confronts': 945, 'turn': 4669, 'getting': 1870, 'emotionally': 1467, 'involved': 2292, 'really': 3585, 'eventually': 1544, 'pose': 3348, 'threat': 4528, 'beings': 429, 'earth': 1404, 'vision': 4797, 'asks': 273, 'wants': 4839, 'idea': 2170, 'knowing': 2487, 'alien': 131, 'entity': 1512, 'tells': 4479, 'simply': 4095, 'answers': 199, 'drinking': 1358, 'oxygen': 3150, 'quickly': 3504, 'self': 3964, 'develops': 1227, 'destroy': 1208, 'objects': 3079, 'using': 4733, 'driven': 1361, 'guilt': 1975, 'real': 3576, 'death': 1134, 'begins': 423, 'chemical': 779, 'awake': 337, 'order': 3123, 'trying': 4664, 'avoid': 335, 'past': 3197, 'abandoning': 4, 'falls': 1619, 'asleep': 274, 'successfully': 4342, 'traumatized': 4621, 'merely': 2849, 'assisted': 287, 'humans': 2156, 'discover': 1270, 'body': 511, 'ceiling': 721, 'cold': 874, 'room': 3807, 'confronted': 944, 'explains': 1575, 'existence': 1559, 'attacked': 301, 'defense': 1163, 'ship': 4043, 'fuel': 1810, 'cell': 725, 'making': 2731, 'trip': 4646, 'impossible': 2194, 'begun': 425, 'mass': 2797, 'pulling': 3476, 'begin': 421, 'vehicle': 4756, 'struggles': 4316, 'normal': 3058, 'life': 2600, 'haunted': 2030, 'wrong': 4970, 'suicidal': 4354, 'accidentally': 27, 'cuts': 1085, 'finger': 1688, 'kitchen': 2476, 'wound': 4961, 'immediately': 2187, 'realizes': 3583, 'flashback': 1707, 'gives': 1887, 'boarding': 504, 'doctor': 1302, 'leaves': 2564, 'pieces': 3269, 'appears': 219, 'assistance': 285, 'assures': 294, 'longer': 2661, 'think': 4516, 'terms': 4487, 'like': 2606, 'general': 1857, 'war': 4840, 'dick': 1239, 'robert': 3777, 'assigned': 281, 'accompany': 30, 'army': 242, 'rangers': 3554, 'upcoming': 4724, 'tough': 4585, 'enemy': 1485, 'landing': 2524, 'american': 154, 'jack': 2316, 'arthur': 258, 'kennedy': 2440, 'ranger': 3553, 'drive': 1360, 'jeep': 2342, 'countryside': 1010, 'discovering': 1272, 'germans': 1866, 'rome': 3802, 'information': 2222, 'result': 3709, 'german': 1865, 'commander': 897, 'gather': 1847, 'forces': 1748, 'launch': 2542, 'ambushed': 151, 'battle': 399, 'film': 1678, 'departs': 1187, 'view': 4776, 'sides': 4080, 'campaign': 647, 'story': 4294, 'survivors': 4396, 'way': 4865, 'lines': 2619, 'men': 2841, 'shelter': 4038, 'house': 2141, 'occupied': 3085, 'italian': 2309, 'women': 4938, 'arrives': 253, 'americans': 155, 'makes': 2729, 'corporal': 999, 'peter': 3239, 'replies': 3672, 'loves': 2685, 'lifestyle': 2601, 'live': 2632, 'based': 389, 'special': 4195, 'service': 3992, 'force': 1746, 'soldier': 4160, 'jake': 2323, 'ran': 3546, 'illegal': 2182, 'brothel': 580, 'stolen': 4282, 'ambulance': 149, 'including': 2206, 'shootout': 4054, 'group': 1963, 'reality': 3580, 'port': 3344, 'operation': 3116, 'invasion': 2279, 'southern': 4184, 'france': 1778, 'finally': 1682, 'forced': 1747, 'gun': 1978, 'sergeant': 3982, 'earl': 1398, 'private': 3417, 'survive': 4391, 'publicly': 3471, 'questions': 3502, 'high': 2083, 'school': 3918, 'senior': 3973, 'parker': 3179, 'lives': 2634, 'aunt': 325, 'uncle': 4690, 'ben': 440, 'field': 1668, 'visits': 4802, 'laboratory': 2512, 'harry': 2020, 'love': 2681, 'mary': 2793, 'jane': 2327, 'watson': 4862, 'bitten': 477, 'super': 4368, 'spider': 4208, 'shortly': 4060, 'unconscious': 4691, 'norman': 3059, 'owner': 3147, 'secure': 3950, 'important': 2193, 'military': 2873, 'contract': 974, 'experiments': 1571, 'unstable': 4718, 'insane': 2243, 'assistant': 286, 'morning': 2932, 'finds': 1686, 'produce': 3428, 'let': 2585, 'injury': 2237, 'confrontation': 943, 'flash': 1706, 'thompson': 4520, 'discovers': 1273, 'developed': 1224, 'speed': 4199, 'strength': 4305, 'ability': 10, 'stick': 4276, 'sense': 3974, 'danger': 1105, 'advice': 78, 'great': 1944, 'power': 3367, 'responsibility': 3702, 'thinks': 4518, 'car': 666, 'enters': 1509, 'underground': 4693, 'fighting': 1672, 'tournament': 4588, 'wins': 4921, 'match': 2801, 'money': 2918, 'thief': 4512, 'suddenly': 4344, 'office': 3097, 'pursues': 3487, 'flees': 1712, 'dies': 1246, 'process': 3426, 'interrupts': 2272, 'experiment': 1569, 'rival': 3768, 'scientists': 3921, 'abilities': 9, 'fight': 1669, 'costume': 1004, 'j': 2314, 'jonah': 2382, 'newspaper': 3033, 'company': 912, 'photographer': 3251, 'person': 3230, 'providing': 3464, 'clear': 835, 'images': 2185, 'board': 503, 'sell': 3966, 'world': 4955, 'fair': 1611, 'mysterious': 2975, 'killer': 2459, 'green': 1948, 'place': 3289, 'refuses': 3624, 'wounded': 4962, 'dinner': 1256, 'invites': 2291, 'identity': 2176, 'attacks': 303, 'admits': 65, 'infatuated': 2217, 'asked': 271, 'dating': 1115, 'feelings': 1656, 'seeing': 3954, 'hold': 2100, 'devastated': 1222, 'revealing': 3730, 'holds': 2103, 'island': 2304, 'children': 789, 'hostage': 2134, 'alongside': 145, 'bridge': 562, 'choose': 797, 'save': 3899, 'drops': 1368, 'saves': 3901, 'grabs': 1924, 'throws': 4539, 'abandoned': 3, 'building': 597, 'brutally': 589, 'enraged': 1500, 'overpowers': 3144, 'reveals': 3731, 'stops': 4289, 'attacking': 302, 'begs': 424, 'forgiveness': 1759, 'controls': 976, 'attack': 300, 'standing': 4239, 'seizes': 3963, 'intent': 2265, 'shooting': 4053, 'escapes': 1527, 'hides': 2081, 'equipment': 1517, 'funeral': 1814, 'vengeance': 4758, 'responsible': 3703, 'left': 2569, 'confesses': 933, 'feels': 1657, 'protect': 3452, 'attention': 312, 'enemies': 1484, 'true': 4657, 'friends': 1802, 'recalls': 3593, 'words': 4947, 'accepts': 23, 'retired': 3715, 'navy': 3002, 'chief': 786, 'mate': 2802, 'steve': 4272, 'edward': 1424, 'g': 1818, 'robinson': 3779, 'build': 596, 'john': 2373, 'paul': 3208, 'jones': 2385, 'served': 3990, 'century': 730, 'saving': 3902, 'aircraft': 106, 'carrier': 685, 'old': 3104, 'lieutenant': 2599, 'clark': 823, 'captain': 660, 'returns': 3723, 'leading': 2553, 'soon': 4172, 'rest': 3704, 'attitude': 315, 'modern': 2910, 'particularly': 3184, 'mickey': 2865, 'glenn': 1892, 'ford': 1751, 'replaced': 3670, 'perform': 3223, 'cruise': 1061, 'matters': 2806, 'secretly': 3947, 'marries': 2781, 'chapman': 756, 'talks': 4438, 'letting': 2589, 'remain': 3650, 'aboard': 12, 'injured': 2233, 'rescuing': 3685, 'recover': 3609, 'sea': 3934, 'duty': 1391, 'collect': 881, 'poor': 3338, 'showing': 4066, 'carry': 688, 'mail': 2725, 'dutch': 1389, 'ships': 4044, 'just': 2410, 'account': 33, 'japanese': 2332, 'fleet': 1713, 'spotted': 4220, 'higher': 2084, 'headquarters': 2037, 'changes': 752, 'orders': 3126, 'sends': 3972, 'safe': 3860, 'en': 1474, 'route': 3818, 'struck': 4314, 'hostile': 2136, 'submarine': 4333, 'flee': 1710, 'best': 450, 'evade': 1537, 'list': 2624, 'abandon': 2, 'given': 1886, 'chance': 744, 'volunteers': 4809, 'try': 4663, 'shut': 4070, 'hole': 2104, 'succeeds': 4339, 'dawn': 1123, 'charges': 762, 'forcing': 1750, 'surface': 4379, 'sinks': 4106, 'beach': 403, 'expresses': 1588, 'married': 2780, 'dismay': 1283, 'managed': 2743, 'shattered': 4030, 'moved': 2945, 'l': 2508, 'radio': 3520, 'reporter': 3675, 'pick': 3260, 'carol': 681, 'mental': 2843, 'hospital': 2132, 'spend': 4202, 'afternoon': 87, 'wallet': 4830, 'gang': 1834, 'consisting': 958, 'split': 4215, 'chases': 771, 'pursue': 3485, 'corners': 998, 'alley': 138, 'address': 60, 'breaks': 554, 'rape': 3558, 'housekeeper': 2143, 'police': 3327, 'kidnap': 2452, 'hideout': 2080, 'attempts': 307, 'plate': 3303, 'glass': 1889, 'window': 4914, 'iron': 2300, 'fence': 1664, 'arrive': 251, 'low': 2687, 'rent': 3664, 'inner': 2240, 'city': 816, 'hotel': 2138, 'base': 387, 'operations': 3117, 'evening': 1541, 'observes': 3081, 'follows': 1738, 'drug': 1372, 'deal': 1128, 'following': 1737, 'hears': 2044, 'screams': 3929, 'couple': 1012, 'includes': 2205, 'parking': 3180, 'garage': 1839, 'wounds': 4963, 'blood': 496, 'trail': 4605, 'warehouse': 4843, 'shoots': 4055, 'hear': 2041, 'murders': 2963, 'suspicion': 4404, 'detective': 1215, 'frank': 1783, 'investigate': 2281, 'case': 695, 'fears': 1647, 'caught': 714, 'reveal': 3728, 'released': 3642, 'charge': 760, 'years': 4978, 'ago': 97, 'killing': 2461, 'meets': 2832, 'suspects': 4402, 'giving': 1888, 'false': 1620, 'apartment': 209, 'york': 4983, 'lover': 2683, 'revelation': 3732, 'denies': 1182, 'local': 2643, 'square': 4227, 'remaining': 3651, 'park': 3178, 'major': 2727, 'arms': 240, 'sniper': 4153, 'warns': 4849, 'mortally': 2935, 'dealer': 1129, 'causing': 718, 'criminal': 1050, 'cliff': 841, 'avenge': 334, 'injuries': 2235, 'colleagues': 880, 'preparing': 3389, 'unit': 4708, 'capture': 662, 'traffic': 4603, 'arrest': 247, 'going': 1901, 'drives': 1363, 'location': 2648, 'influence': 2220, 'arm': 237, 'stabs': 4232, 'officers': 3099, 'tried': 4642, 'institution': 2254, 'visit': 4799, 'interview': 2274, 'corrupt': 1002, 'steals': 4263, 'card': 667, 'uses': 4732, 'enter': 1505, 'asylum': 297, 'despite': 1205, 'stabbed': 4230, 'repeatedly': 3668, 'attendant': 309, 'minutes': 2889, 'hitting': 2097, 'alarm': 117, 'fake': 1615, 'hearing': 2043, 'news': 3032, 'report': 3673, 'engagement': 1489, 'ring': 3758, 'months': 2927, 'speaking': 4192, 'invited': 2290, 'employer': 1472, 'party': 3188, 'able': 11, 'attend': 308, 'doing': 1311, 'figure': 1674, 'walks': 4827, 'followed': 1735, 'starts': 4250, 'fbi': 1644, 'agents': 93, 'pursuit': 3489, 'stop': 4286, 'truck': 4656, 'carrying': 689, 'guns': 1980, 'involvement': 2293, 'crews': 1046, 'patrick': 3204, 'jail': 2322, 'passenger': 3192, 'road': 3772, 'black': 480, 'dog': 1309, 'commercial': 900, 'license': 2595, 'release': 3641, 'mechanic': 2823, 'repair': 3665, 'shop': 4056, 'jersey': 2350, 'unable': 4687, 'offered': 3094, 'manager': 2744, 'graham': 1931, 'load': 2640, 'initially': 2232, 'declines': 1150, 'offer': 3093, 'unless': 4715, 'pays': 3214, 'debt': 1138, 'flies': 1716, 'red': 3614, 'meat': 2822, 'yard': 4976, 'chooses': 798, 'older': 3105, 'draw': 1346, 'accompanied': 28, 'randy': 3552, 'travis': 4627, 'riding': 3751, 'shotgun': 4062, 'sonny': 4170, 'gabriel': 1821, 'brian': 558, 'vincent': 4786, 'protection': 3454, 'guys': 1983, 'experience': 1567, 'run': 3836, 'retaliation': 3714, 'failed': 1606, 'contains': 968, 'worth': 4959, 'according': 32, 'informing': 2224, 'whereabouts': 4895, 'agent': 92, 'shot': 4061, 'tracking': 4598, 'things': 4515, 'worse': 4958, 'tracy': 4600, 'ensure': 1503, 'complete': 914, 'finish': 1690, 'entire': 1510, 'knows': 2490, 'plot': 3316, 'point': 3321, 'gone': 1906, 'separate': 3979, 'puts': 3493, 'device': 1229, 'leaving': 2565, 'pulls': 3477, 'calls': 639, 'allen': 137, 'charles': 763, 'phone': 3247, 'dock': 1301, 'exchange': 1552, 'occurs': 3086, 'shows': 4068, 'catch': 706, 'turns': 4673, 'gratitude': 1940, 'won': 4939, 't': 4425, 'thank': 4505, 'bringing': 569, 'key': 2444, 'lot': 2675, 'thanks': 4506, 'staying': 4259, 'care': 669, 'tiny': 4556, 'pit': 3287, 'bull': 600, 'trailer': 4606, 'guard': 1969, 'leave': 2563, 'ultimately': 4686, 'causes': 717, 'lose': 2670, 'control': 975, 'times': 4553, 'hit': 2094, 'mr': 2951, 'superman': 4370, 'indian': 2211, 'actor': 48, 'playing': 3311, 'completely': 916, 'saga': 3863, 'production': 3431, 'pictures': 3266, 'films': 1680, 'farmer': 1632, 'witnesses': 4932, 'crash': 1029, 'strange': 4297, 'crawls': 1034, 'adopt': 67, 'grows': 1968, 'unbeknownst': 4689, 'workers': 4951, 'flying': 1729, 'hero': 2073, 'plays': 3312, 'character': 758, 'lead': 2550, 'heavy': 2052, 'skull': 4123, 'looking': 2663, 'gas': 1845, 'lane': 2527, 'named': 2981, 'sheila': 4035, 'promising': 3440, 'start': 4246, 'mid': 2866, 'lady': 2516, 'taxi': 4454, 'b': 346, 'king': 2466, 'early': 1400, 'non': 3053, 'scenes': 3915, 'musical': 2970, 'numbers': 3072, 'effects': 1427, 'nomura': 3052, 'wealthy': 4870, 'executive': 1556, 'tokyo': 4568, 'hidden': 2078, 'dark': 1112, 'different': 1248, 'methods': 2858, 'people': 3221, 'video': 4774, 'records': 3608, 'internet': 2270, 'trace': 4596, 'personal': 3231, 'sharing': 4025, 'driving': 1364, 'woman': 4937, 'attempting': 306, 'younger': 4985, 'brother': 581, 'stand': 4238, 'middle': 2867, 'street': 4303, 'fails': 1608, 'tearfully': 4464, 'decision': 1145, 'friendship': 1803, 'bayu': 402, 'aditya': 62, 'ambitious': 148, 'journalist': 2389, 'dharma': 1233, 'recent': 3598, 'rumors': 3835, 'surrounding': 4387, 'violence': 4789, 'obsession': 3083, 'caused': 716, 'marriage': 2779, 'career': 670, 'fall': 1616, 'apart': 208, 'latest': 2537, 'footage': 1744, 'coming': 895, 'kidnapped': 2453, 'accomplice': 31, 'fights': 1673, 'thugs': 4540, 'scene': 3914, 'crime': 1048, 'masked': 2795, 'path': 3200, 'serial': 3983, 'forms': 1762, 'personally': 3233, 'vows': 4812, 'justice': 2411, 'similar': 4091, 'pleased': 3315, 'social': 4156, 'media': 2825, 'upstairs': 4727, 'investigates': 2282, 'child': 787, 'angered': 178, 'pistol': 3286, 'locks': 2651, 'basement': 390, 'gaining': 1823, 'sets': 3998, 'lures': 2704, 'plans': 3298, 'interrupted': 2271, 'deceased': 1140, 'sister': 4108, 'violently': 4791, 'temporarily': 4481, 'deed': 1152, 'outraged': 3137, 'subsequently': 4334, 'prostitute': 3451, 'frequently': 1798, 'flower': 1726, 'store': 4290, 'day': 1124, 'thoughts': 4525, 'toy': 4594, 'develop': 1223, 'seeks': 3957, 'encourages': 1479, 'storms': 4293, 'star': 4242, 'chase': 769, 'loses': 2671, 'mask': 2794, 'busy': 621, 'trouble': 4651, 'nightclub': 3043, 'retrieves': 3719, 'searches': 3939, 'trunk': 4659, 'attracts': 320, 'undercover': 4692, 'policemen': 3329, 'fail': 1605, 'returning': 3722, 'prepares': 3388, 'pleads': 3313, 'believes': 433, 'shares': 4024, 'hurt': 2165, 'victim': 4769, 'rings': 3759, 'knocks': 2485, 'answer': 198, 'furious': 1816, 'behavior': 427, 'conversation': 978, 'passes': 3194, 'greeted': 1950, 'unfortunately': 4703, 'recorded': 3606, 'tears': 4465, 'stumbles': 4327, 'arrived': 252, 'murderer': 2961, 'floor': 1722, 'rise': 3762, 'bodyguard': 512, 'armed': 238, 'taunts': 4453, 'strangles': 4300, 'scuffle': 3933, 'falling': 1618, 'pair': 3164, 'land': 2522, 'final': 1681, 'cut': 1084, 'dying': 1392, 'state': 4251, 'stage': 4234, 'outside': 3138, 'forest': 1754, 'prisoners': 3416, 'taken': 4429, 'randall': 3550, 'alexander': 125, 'william': 4907, 'million': 2876, 'previously': 3405, 'retrieve': 3718, 'canadian': 652, 'jennifer': 2346, 'bird': 469, 'started': 4247, 'lightning': 2604, 'strike': 4308, 'week': 4879, 'jesse': 2352, 'long': 2660, 'course': 1015, 'starting': 4248, 'fellow': 1661, 'proceeds': 3425, 'air': 105, 'pilot': 3278, 'pushing': 3492, 'accident': 25, 'spring': 4223, 'set': 3996, 'scott': 3925, 'mentor': 2846, 'marine': 2770, 'smoke': 4145, 'fires': 1696, 'fighters': 1671, 'gunpoint': 1979, 'inside': 2245, 'bus': 618, 'catches': 707, 'knew': 2478, 'beginning': 422, 'told': 4569, 'training': 4608, 'prison': 3414, 'break': 551, 'wasn': 4854, 'promises': 3439, 'secret': 3945, 'leg': 2570, 'axe': 344, 'chest': 783, 'boat': 506, 'use': 4730, 'pocket': 3318, 'drowning': 1370, 'prevent': 3402, 'burned': 612, 'destroys': 1211, 'area': 228, 'underneath': 4694, 'bullets': 602, 'survives': 4393, 'upper': 4725, 'head': 2034, 'face': 1597, 'burn': 611, 'till': 4550, 'drowns': 1371, 'swim': 4414, 'shore': 4058, 'wait': 4816, 'eggs': 1431, 'tom': 4570, 'hunt': 2161, 'gains': 1824, 'confidence': 936, 'kim': 2463, 'dean': 1132, 'orphan': 3131, 'british': 572, 'raj': 3536, 'works': 4953, 'ali': 127, 'flynn': 1730, 'horse': 2129, 'aware': 341, 'russian': 3845, 'encounters': 1477, 'elderly': 1437, 'quest': 3499, 'river': 3769, 'arrow': 256, 'waters': 4861, 'priest': 3408, 'deliver': 1171, 'colonel': 884, 'douglas': 1334, 'superior': 4369, 'journey': 2390, 'grand': 1932, 'grow': 1965, 'soldiers': 4161, 'notices': 3066, 'flag': 1704, 'sneaks': 4152, 'documents': 1305, 'possesses': 3355, 'o': 3076, 'irish': 2299, 'kind': 2465, 'educated': 1422, 'resistance': 3691, 'settles': 4003, 'convinces': 982, 'potential': 3361, 'spy': 4224, 'receives': 3596, 'extra': 1591, 'arnold': 243, 'summer': 4362, 'vacation': 4737, 'remember': 3654, 'messages': 2855, 'reunited': 3726, 'eye': 1594, 'spies': 4209, 'posing': 3350, 'continues': 972, 'hire': 2090, 'servant': 3987, 'reaches': 3568, 'rescues': 3684, 'papers': 3174, 'prasad': 3376, 'aka': 113, 'temple': 4480, 'vijay': 4778, 'krishna': 2499, 'dev': 1220, 'singh': 4100, 'spreads': 4222, 'rao': 3557, 'student': 4321, 'labor': 2511, 'brothers': 582, 'ajay': 111, 'siva': 4116, 'completing': 918, 'college': 883, 'geeta': 1853, 'policeman': 3328, 'adi': 61, 'bail': 357, 'eddie': 1416, 'dan': 1100, 'bernie': 449, 'jeffrey': 2345, 'helen': 2057, 'bishop': 473, 'cathy': 711, 'husband': 2166, 'team': 4462, 'brings': 570, 'bounty': 536, 'ed': 1415, 'ross': 3814, 'agreement': 100, 'planning': 3297, 'double': 1332, 'cross': 1054, 'cause': 715, 'freedom': 1794, 'ii': 2180, 'living': 2635, 'venture': 4759, 'europe': 1535, 'die': 1243, 'captured': 663, 'bound': 535, 'backs': 352, 'executed': 1554, 'zack': 4991, 'gene': 1856, 'evans': 1538, 'saved': 3900, 'bullet': 601, 'meant': 2820, 'helmet': 2060, 'freed': 1793, 'south': 4183, 'korean': 2495, 'nicknamed': 3038, 'short': 4059, 'round': 3816, 'demands': 1177, 'james': 2324, 'african': 85, 'sole': 4162, 'survivor': 4395, 'led': 2566, 'white': 4897, 'suggest': 4351, 'emergency': 1462, 'richard': 3743, 'reluctantly': 3649, 'post': 3359, 'designed': 1198, 'representative': 3677, 'era': 1518, 'characters': 759, 'joe': 2370, 'quiet': 3505, 'sid': 4077, 'officer': 3098, 'operator': 3118, 'reach': 3567, 'deserted': 1197, 'incident': 2202, 'harold': 2017, 'hiding': 2082, 'success': 4340, 'america': 153, 'prize': 3419, 'questioning': 3501, 'forward': 1771, 'reward': 3738, 'luck': 2694, 'wish': 4925, 'written': 4969, 'prisoner': 3415, 'strikes': 4309, 'tank': 4442, 'relieved': 3646, 'responds': 3700, 'question': 3500, 'grave': 1941, 'san': 3880, 'francisco': 1782, 'sasha': 3893, 'steven': 4273, 'brought': 583, 'nick': 3037, 'rule': 3833, 'boss': 530, 'ellen': 1449, 'e': 1395, 'z': 4989, 'williams': 4908, 'claudia': 829, 'christian': 801, 'bad': 353, 'brief': 563, 'newly': 3031, 'warden': 4842, 'el': 1435, 'tony': 4575, 'known': 2489, 'chamber': 741, 'condemned': 927, 'ways': 4867, 'hanging': 2000, 'firing': 1697, 'squad': 4225, 'electric': 1440, 'chair': 737, 'lester': 2584, 'row': 3821, 'scheduled': 3916, 'stole': 4281, 'gold': 1903, 'deaths': 1135, 'hid': 2077, 'unknown': 4714, 'federal': 1652, 'stephen': 4270, 'court': 1016, 'linda': 2617, 'execution': 1555, 'june': 2405, 'interested': 2268, 'small': 4137, 'terrorists': 4494, 'k': 2414, 'johnson': 2375, 'morris': 2933, 'nearby': 3005, 'eva': 1536, 'maria': 2765, 'threatens': 4532, 'delivered': 1172, 'step': 4267, 'threaten': 4529, 'prepare': 3386, 'rescue': 3682, 'inmates': 2238, 'michael': 2863, 'bear': 405, 'students': 4322, 'keith': 2434, 'buy': 625, 'campus': 650, 'lonely': 2659, 'rich': 3742, 'duncan': 1384, 'strip': 4311, 'boys': 544, 'club': 860, 'town': 4591, 'impressed': 2196, 'dressing': 1355, 'convince': 980, 'seduces': 3953, 'bite': 475, 'neck': 3008, 'concerned': 923, 'delay': 1166, 'waitress': 4818, 'keeps': 2433, 'insisting': 2247, 'confusion': 947, 'search': 3938, 'neighborhood': 3017, 'separated': 3980, 'vampires': 4744, 'owners': 3148, 'vampire': 4743, 'realizing': 3584, 'willing': 4910, 'piece': 3268, 'broken': 575, 'escaping': 1528, 'burning': 613, 'allison': 139, 'game': 1831, 'bottle': 532, 'nest': 3026, 'held': 2056, 'pipe': 3283, 'opening': 3112, 'allowing': 142, 'trapped': 4617, 'revived': 3735, 'notes': 3064, 'stake': 4236, 'climb': 844, 'remains': 3652, 'calling': 638, 'ideas': 2171, 'graveyard': 1942, 'wanders': 4834, 'delhi': 1167, 'selling': 3967, 'girl': 1883, 'amrita': 160, 'free': 1792, 'balloon': 366, 'days': 1125, 'storm': 4292, 'blows': 500, 'parents': 3176, 'headed': 2035, 'dangerous': 1106, 'ahead': 102, 'adopted': 68, 'hostel': 2135, 'stopped': 4287, 'teenager': 4471, 'rage': 3523, 'teen': 4469, 'hate': 2027, 'mahesh': 2722, 'babu': 348, 'goons': 1911, 'chased': 770, 'hyderabad': 2167, 'confess': 932, 'annoyed': 195, 'asking': 272, 'coffee': 870, 'slaps': 4126, 'crying': 1064, 'apologize': 211, 'wanted': 4837, 'cemetery': 727, 'childhood': 788, 'mafia': 2716, 'leader': 2551, 'sharma': 4027, 'track': 4597, 'explosion': 1581, 'planned': 3296, 'figures': 1675, 'shock': 4049, 'heart': 2045, 'kidnaps': 2455, 'niece': 3040, 'doesn': 1308, 'hours': 2140, 'severely': 4007, 'stuck': 4320, 'certain': 734, 'unite': 4709, 'realises': 3578, 'desperate': 1203, 'plane': 3294, 'savage': 3898, 'desert': 1196, 'present': 3391, 'brien': 566, 'played': 3308, 'stuart': 4319, 'big': 463, 'crashes': 1031, 'passengers': 3193, 'entering': 1507, 'recovering': 3611, 'supplies': 4372, 'rifle': 3752, 'far': 1629, 'noble': 3050, 'thinking': 4517, 'absence': 16, 'competition': 913, 'intending': 2262, 'grace': 1925, 'eve': 1539, 'adam': 56, 'distance': 1285, 'animals': 184, 'aggressive': 94, 'presumably': 3396, 'helicopter': 2058, 'bay': 401, 'ammunition': 156, 'challenges': 740, 'male': 2735, 'lone': 2658, 'cowboy': 1023, 'cole': 875, 'grandfather': 1933, 'grown': 1967, 'ranch': 3548, 'sale': 3871, 'mother': 2938, 'ties': 4546, 'anymore': 207, 'texas': 4501, 'join': 2376, 'travel': 4622, 'border': 526, 'miles': 2872, 'seek': 3955, 'mexico': 2860, 'year': 4977, 'jimmy': 2364, 'likes': 2608, 'mexican': 2859, 'accused': 34, 'stealing': 4262, 'crimes': 1049, 'defend': 1161, 'nearly': 3006, 'frees': 1796, 'condition': 928, 'reunite': 3725, 'objections': 3078, 'confident': 937, 'word': 4946, 'number': 3071, 'urges': 4728, 'took': 4577, 'horses': 2130, 'shared': 4023, 'imprisoned': 2198, 'implied': 2191, 'buying': 626, 'needs': 3013, 'sheriff': 4039, 'deputy': 1191, 'arrests': 249, 'suspect': 4400, 'judge': 2394, 'troubled': 4652, 'said': 3864, 'good': 1907, 'guilty': 1976, 'upset': 4726, 'hard': 2012, 'helped': 2062, 'rides': 3750, 'roger': 3791, 'cover': 1019, 'governor': 1921, 'francis': 1781, 'sullivan': 4359, 'signs': 4086, 'friendly': 1801, 'peace': 3215, 'loving': 2686, 'kingdom': 2467, 'described': 1194, 'march': 2759, 'fort': 1766, 'bhai': 459, 'ruins': 3832, 'prince': 3410, 'befriends': 419, 'teaches': 4460, 'play': 3306, 'raymond': 3566, 'throne': 4535, 'fate': 1639, 'loyal': 2689, 'hide': 2079, 'valerie': 4740, 'believing': 434, 'pretends': 3400, 'plots': 3317, 'festival': 1666, 'signal': 4084, 'ambush': 150, 'risk': 3765, 'warn': 4845, 'impending': 2189, 'ensuing': 1502, 'replacement': 3671, 'western': 4890, 'advances': 73, 'french': 1797, 'boyd': 542, 'rear': 3587, 'retreat': 3716, 'comfort': 893, 'bud': 593, 'russell': 3844, 'relates': 3636, 'joined': 2377, 'farm': 1631, 'pleas': 3314, 'foreign': 1752, 'finishes': 1692, 'lew': 2591, 'cody': 869, 'playboy': 3307, 'used': 4731, 'jim': 2361, 'announces': 194, 'intention': 2266, 'engaged': 1488, 'united': 4710, 'states': 4252, 'wed': 4877, 'differences': 1247, 'position': 3351, 'blow': 498, 'katherine': 2427, 'allow': 140, 'slowly': 4136, 'allowed': 141, 'patients': 3202, 'need': 3011, 'recovered': 3610, 'celebrate': 722, 'smart': 4138, 'charged': 761, 'sam': 3876, 'cop': 988, 'currently': 1074, 'leo': 2576, 'loud': 2677, 'handsome': 1997, 'fresh': 1799, 'suspected': 4401, 'kidnapping': 2454, 'country': 1009, 'adventure': 75, 'partner': 3185, 'george': 1861, 'mac': 2707, 'soviet': 4185, 'infiltrate': 2219, 'locate': 2645, 'corpse': 1000, 'site': 4111, 'discovery': 1274, 'working': 4952, 'unsuccessfully': 4720, 'henchman': 2066, 'model': 2909, 'test': 4497, 'bomb': 514, 'marshall': 2787, 'crystal': 1065, 'suffered': 4348, 'legend': 2572, 'letter': 2587, 'captive': 661, 'containing': 967, 'ancient': 167, 'language': 2529, 'psychiatric': 3466, 'walls': 4831, 'marion': 2772, 'henry': 2068, 'belongs': 438, 'form': 1761, 'psychic': 3468, 'finding': 1685, 'grant': 1937, 'advantage': 74, 'identify': 2174, 'cia': 809, 'regain': 3626, 'trust': 4661, 'ants': 205, 'rock': 3783, 'lied': 2597, 'dropping': 1367, 'gain': 1822, 'access': 24, 'filled': 1677, 'aliens': 132, 'studying': 4326, 'presents': 3392, 'skeleton': 4118, 'portal': 3345, 'drawn': 1348, 'receiving': 3597, 'knowledge': 2488, 'treasure': 4628, 'pull': 3474, 'watch': 4855, 'ground': 1961, 'valley': 4741, 'departure': 1188, 'associate': 288, 'wedding': 4878, 'wind': 4913, 'brown': 584, 'coat': 865, 'feet': 1658, 'picks': 3263, 'malley': 2737, 'crosses': 1055, 'belle': 436, 'joseph': 2387, 'melissa': 2835, 'attracted': 317, 'reminds': 3657, 'lovers': 2684, 'herd': 2070, 'pursuing': 3488, 'serve': 3989, 'cattle': 713, 'arrival': 250, 'confront': 942, 'bar': 375, 'civil': 817, 'respond': 3699, 'bury': 617, 'marry': 2782, 'tension': 4483, 'outlaw': 3136, 'continue': 971, 'faces': 1599, 'committing': 906, 'buck': 591, 'cats': 712, 'rampage': 3544, 'seriously': 3985, 'effort': 1428, 'associates': 289, 'jeremy': 2348, 'nazi': 3003, 'lang': 2528, 'cornered': 997, 'grey': 1957, 'public': 3470, 'telephone': 4475, 'computer': 921, 'thomas': 4519, 'anderson': 168, 'neo': 3023, 'repeated': 3667, 'contacts': 965, 'saying': 3906, 'meaning': 2818, 'smith': 4143, 'helping': 2063, 'terrorist': 4493, 'truth': 4662, 'blue': 501, 'naked': 2980, 'weak': 4868, 'connected': 949, 'electrical': 1441, 'intelligent': 2260, 'machines': 2710, 'solar': 4158, 'energy': 1486, 'refuge': 3621, 'rebels': 3592, 'understanding': 4696, 'physical': 3254, 'laws': 2548, 'powerful': 3369, 'threats': 4533, 'combat': 889, 'belief': 430, 'especially': 1530, 'member': 2836, 'betrayed': 454, 'exits': 1561, 'lie': 2596, 'proposes': 3450, 'resolves': 3694, 'performing': 3225, 'exit': 1560, 'kisses': 2473, 'defeats': 1160, 'weapon': 4871, 'possible': 3357, 'hangs': 2001, 'sky': 4124, 'bids': 462, 'read': 3572, 'al': 115, 'hall': 1988, 'dancer': 1102, 'circus': 814, 'owned': 3146, 'billy': 467, 'troupe': 4654, 'sinbad': 4097, 'sailor': 3866, 'seemingly': 3959, 'fallen': 1617, 'names': 2982, 'future': 1817, 'queen': 3498, 'attempted': 305, 'sentenced': 3978, 'slow': 4135, 'palace': 3165, 'received': 3595, 'flight': 1717, 'instantly': 2251, 'assumes': 292, 'chagrin': 735, 'bey': 458, 'edgar': 1418, 'barrier': 382, 'approaches': 222, 'disappear': 1263, 'exposed': 1585, 'manage': 2742, 'slave': 4127, 'tent': 4484, 'recognizes': 3602, 'affection': 82, 'blackmail': 481, 'scheme': 3917, 'poison': 3323, 'ceremony': 733, 'assume': 290, 'rush': 3842, 'troops': 4650, 'engages': 1490, 'sword': 4419, 'massive': 2798, 'spear': 4194, 'thrown': 4538, 'subjects': 4332, 'victory': 4773, 'switch': 4417, 'jobs': 2368, 'distant': 1286, 'common': 907, 'created': 1037, 'traditional': 4602, 'means': 2819, 'practice': 3373, 'professional': 3432, 'employment': 1473, 'aid': 103, 'birth': 471, 'anton': 204, 'chicken': 785, 'swimming': 4415, 'considered': 956, 'drown': 1369, 'cleaning': 834, 'hair': 1986, 'skin': 4121, 'eugene': 1534, 'moon': 2928, 'titan': 4561, 'groom': 1960, 'daily': 1092, 'remove': 3659, 'pass': 3189, 'tests': 4499, 'investigation': 2284, 'worker': 4950, 'irene': 2297, 'failure': 1609, 'joining': 2378, 'deep': 1153, 'source': 4182, 'suffering': 4349, 'director': 1260, 'closed': 852, 'presence': 3390, 'gotten': 1919, 'surprise': 4382, 'winning': 4920, 'swims': 4416, 'open': 3110, 'goodbye': 1908, 'surprised': 4383, 'background': 351, 'checks': 776, 'looks': 2664, 'wonders': 4940, 'promised': 3438, 'rocket': 3784, 'launches': 2543, 'opens': 3113, 'note': 3063, 'lock': 2649, 'attached': 299, 'stating': 4253, 'm': 2706, 'say': 3904, 'bodies': 510, 'cops': 990, 'notorious': 3068, 'succeed': 4338, 'trapping': 4618, 'commissioner': 901, 'chandru': 747, 'happy': 2011, 'lucky': 2695, 'youth': 4986, 'graduate': 1929, 'grandmother': 1934, 'elope': 1454, 'spot': 4218, 'sight': 4082, 'follow': 1734, 'usual': 4734, 'strict': 4307, 'nation': 2995, 'travels': 4626, 'introduces': 2277, 'travelling': 4625, 'airport': 108, 'drugs': 1374, 'guy': 1982, 'officials': 3101, 'claims': 820, 'innocent': 2242, 'understands': 4697, 'chinna': 792, 'tamil': 4441, 'lawyer': 2549, 'criminals': 1051, 'deeply': 1157, 'whilst': 4896, 'imran': 2200, 'beating': 410, 'fearing': 1646, 'camel': 643, 'los': 2669, 'angeles': 176, 'assassin': 277, 'clothes': 857, 'kyle': 2506, 'sarah': 3892, 'tracks': 4599, 'steal': 4261, 'intelligence': 2259, 'network': 3028, 'nuclear': 3070, 'movement': 2946, 'born': 529, 'machine': 2709, 'metal': 2857, 'appear': 215, 'concludes': 926, 'repairs': 3666, 'motel': 2937, 'bombs': 518, 'gave': 1850, 'photograph': 3250, 'sex': 4008, 'victims': 4770, 'motorcycle': 2939, 'throwing': 4537, 'burns': 614, 'flesh': 1714, 'factory': 1603, 'activates': 44, 'injuring': 2236, 'press': 3394, 'pregnant': 3384, 'traveling': 4624, 'recording': 3607, 'raid': 3527, 'shown': 4067, 'ravi': 3564, 'items': 2311, 'happened': 2006, 'angry': 180, 'cheated': 773, 'gangster': 1836, 'dealing': 1130, 'mom': 2914, 'chandra': 746, 'beautiful': 412, 'humiliated': 2157, 'treats': 4632, 'rani': 3555, 'ruthless': 3847, 'exactly': 1550, 'wear': 4873, 'walk': 4824, 'talk': 4436, 'girls': 1885, 'customers': 1083, 'include': 2204, 'robbery': 3776, 'traps': 4619, 'climax': 843, 'ends': 1483, 'moves': 2947, 'misunderstanding': 2904, 'dorothy': 1331, 'sells': 3968, 'roy': 3823, 'gregory': 1953, 'bank': 373, 'water': 4859, 'ghost': 1871, 'yellow': 4979, 'residents': 3689, 'mike': 2870, 'anne': 190, 'barton': 386, 'dude': 1379, 'mining': 2885, 'hills': 2088, 'underwater': 4698, 'band': 370, 'digging': 1251, 'convinced': 981, 'sending': 3971, 'indians': 2212, 'share': 4022, 'draws': 1349, 'wanting': 4838, 'opportunity': 3120, 'misses': 2894, 'fatally': 1638, 'half': 1987, 'morgan': 2930, 'deadly': 1127, 'saloon': 3875, 'recovers': 3612, 'wearing': 4874, 'robbed': 3774, 'ride': 3748, 'pilots': 3279, 'mal': 2733, 'andrews': 171, 'farrell': 1633, 'humphrey': 2158, 'royal': 3824, 'squadron': 4226, 'worried': 4956, 'cheating': 774, 'bride': 561, 'ian': 2168, 'lack': 2513, 'battles': 400, 'joins': 2379, 'carla': 677, 'mistaken': 2900, 'mistress': 2903, 'alice': 129, 'fly': 1728, 'results': 3711, 'widow': 4899, 'hope': 2122, 'josh': 2388, 'union': 4707, 'west': 4889, 'clean': 833, 'health': 2040, 'anchor': 166, 'east': 1407, 'caroline': 682, 'wade': 4814, 'henchmen': 2067, 'ball': 365, 'waiting': 4817, 'surrounded': 4386, 'laugh': 2539, 'martha': 2788, 'expected': 1563, 'argue': 229, 'property': 3447, 'smiles': 4141, 'expecting': 1564, 'approach': 220, 'approaching': 223, 'panic': 3171, 'wagon': 4815, 'smiling': 4142, 'd': 1088, 'earns': 1402, 'happens': 2008, 'featuring': 1650, 'natasha': 2994, 'italy': 2310, 'mercenaries': 2847, 'nun': 3074, 'mistakenly': 2901, 'medical': 2826, 'cavalry': 719, 'martin': 2791, 'infant': 2216, 'wooden': 4943, 'statue': 4255, 'saint': 3867, 'views': 4777, 'sign': 4083, 'god': 1897, 'agnes': 96, 'jason': 2334, 'eat': 1409, 'valuable': 4742, 'desire': 1200, 'hoping': 2124, 'castle': 703, 'inhabitants': 2228, 'infected': 2218, 'plague': 3292, 'easily': 1406, 'determined': 1218, 'loyalty': 2690, 'lies': 2598, 'winner': 4919, 'builds': 598, 'tower': 4590, 'grounds': 1962, 'abuse': 17, 'learned': 2559, 'cutting': 1086, 'lands': 2526, 'meal': 2816, 'watches': 4857, 'drink': 1357, 'cup': 1070, 'cooperate': 987, 'races': 3515, 'embrace': 1459, 'shoulder': 4063, 'sack': 3853, 'says': 3907, 'hill': 2087, 'california': 635, 'marty': 2792, 'girlfriend': 1884, 'principal': 3412, 'rejected': 3633, 'depressed': 1189, 'alcoholic': 120, 'eccentric': 1413, 'doc': 1300, 'built': 599, 'powered': 3368, 'date': 1114, 'inadvertently': 2201, 'classmate': 826, 'knocked': 2483, 'capable': 657, 'necessary': 3007, 'bolt': 513, 'instructs': 2256, 'warnings': 4848, 'introduce': 2275, 'drunken': 1376, 'kiss': 2472, 'performs': 3226, 'clock': 849, 'survived': 4392, 'successful': 4341, 'author': 329, 'fit': 1701, 'auto': 331, 'reunites': 3727, 'resolve': 3693, 'problem': 3422, 'trio': 4645, 'hunters': 2163, 'english': 1494, 'voodoo': 4811, 'idol': 2177, 'tribe': 4638, 'ted': 4467, 'acting': 41, 'guide': 1974, 'conway': 984, 'mad': 2711, 'native': 2997, 'create': 1036, 'hopes': 2123, 'perfect': 3222, 'race': 3514, 'susan': 4398, 'initial': 2231, 'female': 1663, 'subject': 4331, 'survival': 4390, 'monster': 2923, 'chaos': 755, 'tea': 4457, 'visiting': 4801, 'england': 1493, 'rose': 3813, 'ruth': 3846, 'bungalow': 607, 'plantation': 3300, 'fact': 1602, 'relationship': 3637, 'late': 2535, 'tomb': 4571, 'garden': 1841, 'speaks': 4193, 'larger': 2532, 'portrait': 3347, 'kept': 2442, 'changed': 751, 'locked': 2650, 'deliberately': 1168, 'efforts': 1429, 'servants': 3988, 'delight': 1169, 'wealth': 4869, 'district': 1291, 'nonetheless': 3054, 'mutual': 2974, 'attraction': 318, 'history': 2093, 'relief': 3645, 'wall': 4828, 'collapses': 878, 'rain': 3530, 'sorry': 4175, 'll': 2637, 'appeared': 217, 'raises': 3534, 'screen': 3930, 'utah': 4735, 'nancy': 2984, 'kelly': 2437, 'client': 839, 'rourke': 3817, 'snaps': 4150, 'slip': 4133, 'clothing': 858, 'authorities': 330, 'albert': 118, 'david': 1120, 'cars': 690, 'remote': 3658, 'vietnam': 4775, 'veteran': 4763, 'tim': 4551, 'anthony': 201, 'ex': 1548, 'nora': 3056, 'mimi': 2881, 'kids': 2456, 'danny': 1110, 'reconcile': 3603, 'picked': 3261, 'random': 3551, 'details': 1214, 'act': 40, 'fool': 1741, 'brenda': 556, 'chandler': 745, 'surveillance': 4389, 'covered': 1020, 'expose': 1584, 'ignores': 2178, 'surrender': 4385, 'removes': 3661, 'prepared': 3387, 'drags': 1343, 'memnon': 2838, 'greatest': 1946, 'warrior': 4851, 'mathayus': 2803, 'sneak': 4151, 'guards': 1971, 'cassandra': 701, 'wrath': 4964, 'cost': 1003, 'buried': 609, 'deciding': 1144, 'briefly': 565, 'directs': 1261, 'theft': 4509, 'barely': 377, 'likely': 2607, 'cave': 720, 'stabbing': 4231, 'stab': 4229, 'magic': 2719, 'warning': 4847, 'explosive': 1582, 'respect': 3696, 'rebel': 3591, 'informs': 2225, 'destiny': 1207, 'sleep': 4129, 'possibly': 3358, 'assault': 279, 'facing': 1601, 'bow': 537, 'edge': 1419, 'roof': 3806, 'stone': 4284, 'consumed': 963, 'flames': 1705, 'aftermath': 86, 'farewell': 1630, 'period': 3227, 'forever': 1755, 'devil': 1231, 'rider': 3749, 'document': 1304, 'thousand': 4526, 'souls': 4178, 'hell': 2059, 'johnny': 2374, 'blaze': 491, 'offering': 3095, 'cure': 1071, 'cancer': 653, 'soul': 4177, 'cured': 1072, 'jumps': 2404, 'accuses': 35, 'considers': 957, 'sweetheart': 4412, 'roxanne': 3822, 'demonic': 1179, 'response': 3701, 'matter': 2805, 'straight': 4295, 'transforms': 4614, 'angel': 174, 'evil': 1547, 'caretaker': 673, 'carter': 692, 'sold': 4159, 'action': 42, 'distracted': 1288, 'curse': 1075, 'harm': 2016, 'infuriated': 2226, 'pay': 3210, 'afraid': 83, 'disappears': 1266, 'taking': 4431, 'got': 1917, 'turning': 4672, 'creature': 1040, 'powers': 3370, 'robot': 3780, 'damaged': 1098, 'shyam': 4074, 'honest': 2115, 'conflict': 941, 'rahul': 3526, 'villains': 4783, 'department': 1186, 'arranges': 246, 'provide': 3461, 'deva': 1221, 'waits': 4819, 'went': 4887, 'drop': 1365, 'anjali': 187, 'sathya': 3896, 'veera': 4753, 'village': 4780, 'villain': 4782, 'pre': 3377, 'protects': 3456, 'mystery': 2977, 'consciousness': 953, 'hearted': 2047, 'landlord': 2525, 'torture': 4580, 'villagers': 4781, 'supposed': 4375, 'blames': 488, 'episode': 1516, 'happily': 2009, 'flat': 1709, 'chennai': 780, 'covering': 1021, 'regular': 3631, 'class': 824, 'assassination': 278, 'mob': 2907, 'crowd': 1057, 'grateful': 1939, 'skip': 4122, 'enjoy': 1495, 'warned': 4846, 'nikki': 3045, 'adult': 71, 'hometown': 2114, 'relatives': 3640, 'restaurant': 3705, 'drunk': 1375, 'priya': 3418, 'boyfriend': 543, 'surya': 4397, 'realise': 3577, 'protests': 3457, 'inspector': 2249, 'light': 2603, 'midnight': 2868, 'arranged': 245, 'fathers': 1641, 'arrange': 244, 'advises': 79, 'lying': 2705, 'tortured': 4581, 'prime': 3409, 'identities': 2175, 'frame': 1776, 'disappearance': 1264, 'sons': 4171, 'releases': 3643, 'treatment': 4631, 'paper': 3173, 'symbol': 4424, 'tattoo': 4451, 'frozen': 1806, 'jealousy': 2338, 'mistake': 2899, 'sacrifice': 3854, 'talking': 4437, 'rough': 3815, 'kurt': 2504, 'bet': 451, 'wang': 4835, 'dennis': 1184, 'sure': 4378, 'payment': 3212, 'accompanies': 29, 'chinese': 791, 'gracie': 1926, 'intervenes': 2273, 'erupts': 1524, 'chang': 749, 'sing': 4098, 'wing': 4918, 'kong': 2493, 'warriors': 4852, 'weather': 4876, 'rig': 3753, 'lo': 2639, 'pan': 3169, 'hong': 2118, 'horrified': 2127, 'margo': 2764, 'lee': 2567, 'donald': 1320, 'li': 2593, 'egg': 1430, 'victor': 4771, 'devises': 1232, 'believe': 431, 'business': 619, 'tied': 4545, 'intends': 2263, 'greater': 1945, 'wizard': 4934, 'defeated': 1159, 'emperor': 1468, 'huang': 2146, 'cursed': 1076, 'eyes': 1595, 'holding': 2102, 'pours': 3364, 'potion': 3362, 'promptly': 3444, 'suit': 4356, 'armor': 239, 'duel': 1380, 'knife': 2479, 'throw': 4536, 'reappears': 3586, 'explodes': 1578, 'collapse': 877, 'rope': 3811, 'suggests': 4353, 'china': 790, 'involves': 2294, 'teens': 4472, 'adults': 72, 'experimental': 1570, 'program': 3434, 'leaders': 2552, 'serving': 3994, 'sentence': 3977, 'leon': 2577, 'players': 3310, 'carlos': 678, 'quinn': 3507, 'cameron': 645, 'mitchell': 2905, 'violent': 4790, 'abusive': 18, 'various': 4748, 'shannon': 4017, 'swamp': 4409, 'buys': 627, 'baron': 380, 'directly': 1259, 'facility': 1600, 'armstrong': 241, 'larry': 2533, 'betty': 456, 'mountains': 2942, 'searching': 3940, 'woods': 4944, 'contain': 966, 'brad': 545, 'cabin': 631, 'spaceship': 4187, 'andrew': 170, 'stranded': 4296, 'pet': 3237, 'reed': 3616, 'cage': 633, 'locates': 2647, 'overhears': 3141, 'disguise': 1278, 'ruin': 3829, 'teaching': 4461, 'invite': 2289, 'tricks': 4641, 'faints': 1610, 'realized': 3582, 'sort': 4176, 'obtain': 3084, 'line': 2618, 'lure': 2703, 'simple': 4094, 'impact': 2188, 'originally': 3129, 'couples': 1013, 'species': 4197, 'bandits': 371, 'kenshin': 2441, 'defeat': 1158, 'shishio': 4046, 'makoto': 2732, 'engage': 1487, 'coast': 864, 'minister': 2886, 'food': 1740, 'restore': 3706, 'disgusted': 1282, 'demanding': 1176, 'points': 3322, 'strong': 4312, 'task': 4449, 'realising': 3579, 'listens': 2627, 'coma': 888, 'depart': 1185, 'japan': 2331, 'inn': 2239, 'putting': 3494, 'welcomes': 4885, 'wishing': 4927, 'ended': 1481, 'disaster': 1269, 'bitter': 478, 'horror': 2128, 'carries': 686, 'believed': 432, 'crushed': 1063, 'confused': 946, 'ensues': 1501, 'hits': 2096, 'shield': 4040, 'sink': 4105, 'argues': 230, 'age': 89, 'physically': 3255, 'declares': 1148, 'heroes': 2074, 'season': 3941, 'pacific': 3152, 'railroad': 3528, 'signed': 4085, 'president': 3393, 'wilderness': 4904, 'financial': 1683, 'jeff': 2344, 'butler': 623, 'gambler': 1829, 'buddy': 594, 'engineer': 1492, 'molly': 2913, 'push': 3490, 'ordered': 3124, 'deck': 1146, 'carl': 676, 'teacher': 4459, 'ill': 2181, 'courage': 1014, 'heading': 2036, 'c': 629, 'platoon': 3305, 'seven': 4004, 'original': 3128, 'supply': 4373, 'dig': 1250, 'riley': 3757, 'pretty': 3401, 'constant': 960, 'commanding': 898, 'pills': 3277, 'troubles': 4653, 'capturing': 665, 'willie': 4909, 'shell': 4037, 'map': 2756, 'commits': 903, 'expert': 1572, 'highly': 2085, 'baseball': 388, 'player': 3309, 'pretending': 3399, 'deduces': 1151, 'located': 2646, 'reads': 3574, 'inspired': 2250, 'sake': 3869, 'lord': 2667, 'closes': 854, 'u': 4683, 'fighter': 1670, 'came': 642, 'stories': 4291, 'freddie': 1789, 'bought': 533, 'firm': 1698, 'graduation': 1930, 'hank': 2002, 'concerns': 924, 'project': 3436, 'mentally': 2844, 'disabled': 1262, 'provides': 3463, 'role': 3794, 'dives': 1294, 'pound': 3363, 'rocks': 3786, 'spread': 4221, 'thing': 4514, 'slips': 4134, 'beneath': 441, 'waves': 4864, 'lion': 2622, 'writes': 4967, 'crazy': 1035, 'minute': 2888, 'zoo': 4998, 'protecting': 3453, 'odds': 3089, 'pile': 3276, 'animal': 183, 'rises': 3763, 'speech': 4198, 'camera': 644, 'ask': 270, 'main': 2726, 'alex': 124, 'jr': 2393, 'kate': 2426, 'crawford': 1033, 'happening': 2007, 'inform': 2221, 'link': 2621, 'suspicious': 4406, 'stevens': 4274, 'handed': 1995, 'entrance': 1513, 'stays': 4260, 'escaped': 1526, 'archer': 226, 'parts': 3187, 'territory': 4491, 'tucker': 4665, 'investigating': 2283, 'psychiatrist': 3467, 'patient': 3201, 'wendy': 4886, 'describes': 1195, 'acts': 51, 'halloween': 1989, 'oliver': 3106, 'reports': 3676, 'fast': 1635, 'attends': 311, 'companion': 911, 'disease': 1277, 'brain': 547, 'prevents': 3403, 'better': 455, 'resists': 3692, 'transformed': 4613, 'virus': 4795, 'society': 4157, 'center': 728, 'elevator': 1444, 'memory': 2840, 'tall': 4439, 'assuming': 293, 'remembers': 3656, 'runner': 3837, 'creatures': 1041, 'steps': 4271, 'dragging': 1341, 'closing': 856, 'mechanical': 2824, 'command': 896, 'sequence': 3981, 'section': 3949, 'teresa': 4485, 'substance': 4335, 'struggle': 4315, 'clint': 848, 'punches': 3478, 'severed': 4006, 'revive': 3734, 'anti': 202, 'worked': 4949, 'organization': 3127, 'w': 4813, 'unknowingly': 4713, 'chuck': 805, 'confessing': 934, 'refuse': 3622, 'corpses': 1001, 'lab': 2510, 'ruined': 3830, 'supposedly': 4376, 'jet': 2356, 'gwen': 1984, 'manhattan': 2748, 'ceo': 731, 'illness': 2183, 'max': 2809, 'institute': 2253, 'photos': 3253, 'vice': 4766, 'subway': 4337, 'refused': 3623, 'weapons': 4872, 'agree': 98, 'heads': 2038, 'streets': 4304, 'resumes': 3713, 'revolution': 3736, 'wilson': 4911, 'northern': 3061, 'suitcase': 4357, 'col': 873, 'bit': 474, 'explosives': 1583, 'encouraged': 1478, 'fishing': 1700, 'lisa': 2623, 'ursula': 4729, 'chasing': 772, 'waterfall': 4860, 'browning': 585, 'blown': 499, 'sweet': 4411, 'poker': 3325, 'townsfolk': 4592, 'notice': 3065, 'object': 3077, 'challenge': 739, 'jumbo': 2401, 'shirley': 4045, 'acquaintance': 38, 'sharp': 4029, 'losing': 2672, 'fortunately': 1769, 'masters': 2800, 'vicious': 4767, 'invade': 2278, 'locals': 2644, 'bigger': 464, 'moore': 2929, 'ransom': 3556, 'stands': 4240, 'hugh': 2152, 'griffin': 1959, 'jon': 2381, 'cape': 658, 'sir': 4107, 'jasper': 2335, 'julie': 2398, 'mark': 2774, 'foster': 1772, 'residence': 3687, 'quite': 3509, 'unexpectedly': 4702, 'defends': 1162, 'claiming': 819, 'explanation': 1576, 'diamond': 1234, 'series': 3984, 'sue': 4346, 'calm': 640, 'estate': 1531, 'counter': 1008, 'proposal': 3448, 'drugged': 1373, 'frightened': 1804, 'betrayal': 453, 'entered': 1506, 'unsuccessful': 4719, 'frederick': 1791, 'london': 2657, 'eager': 1396, 'research': 3686, 'formula': 1763, 'win': 4912, 'regains': 3627, 'rid': 3747, 'paying': 3211, 'breakfast': 552, 'table': 4427, 'wine': 4917, 'cellar': 726, 'completed': 915, 'crisis': 1052, 'conscience': 952, 'international': 2269, 'agency': 91, 'spent': 4205, 'targets': 4446, 'berlin': 447, 'clues': 862, 'lung': 2701, 'warm': 4844, 'official': 3100, 'available': 333, 'determine': 1217, 'bursts': 616, 'door': 1327, 'diana': 1236, 'senses': 3975, 'chosen': 799, 'promise': 3437, 'apologizes': 212, 'refers': 3619, 'exposing': 1586, 'disguised': 1279, 'confirms': 940, 'target': 4445, 'exact': 1549, 'alike': 133, 'credits': 1043, 'send': 3970, 'ho': 2099, 'mo': 2906, 'van': 4745, 'destruction': 1212, 'chan': 743, 'lau': 2538, 'daughters': 1117, 'miss': 2893, 'chung': 807, 'fought': 1773, 'heard': 2042, 'thought': 4524, 'ocean': 3087, 'baby': 349, 'belongings': 437, 'decided': 1142, 'crashing': 1032, 'agreed': 99, 'threatened': 4530, 'bait': 358, 'possession': 3356, 'rob': 3773, 'cigarette': 810, 'addiction': 58, 'blamed': 487, 'easy': 1408, 'quit': 3508, 'support': 4374, 'treated': 4630, 'speak': 4191, 'tricked': 4640, 'sleeping': 4130, 'sum': 4361, 'song': 4167, 'robbers': 3775, 'listen': 2625, 'loaded': 2641, 'kick': 2449, 'multiple': 2956, 'missile': 2895, 'planted': 3301, 'term': 4486, 'code': 868, 'sabotage': 3850, 'event': 1542, 'narrowly': 2990, 'rogue': 3792, 'clerk': 838, 'book': 523, 'citizens': 815, 'commit': 902, 'political': 3330, 'copy': 991, 'quietly': 3506, 'greatly': 1947, 'single': 4103, 'barbara': 376, 'letters': 2588, 'writing': 4968, 'loose': 2666, 'raja': 3537, 'anu': 206, 'meera': 2829, 'joy': 2391, 'argument': 231, 'walking': 4826, 'mohan': 2911, 'continually': 970, 'impresses': 2197, 'prakash': 3374, 'cousin': 1017, 'degree': 1164, 'university': 4712, 'nature': 3000, 'fatal': 1637, 'manner': 2751, 'feeling': 1655, 'abroad': 14, 'matt': 2804, 'brady': 546, 'gerald': 1864, 'donna': 1323, 'physician': 3256, 'surgeon': 4380, 'torn': 4579, 'progress': 3435, 'dixon': 1299, 'jess': 2351, 'sun': 4365, 'blame': 486, 'active': 45, 'assaults': 280, 'damage': 1097, 'slim': 4132, 'otis': 3135, 'karen': 2423, 'involving': 2295, 'extreme': 1592, 'sports': 4217, 'payne': 3213, 'anonymous': 197, 'individual': 2214, 'romantically': 3801, 'hot': 2137, 'fictional': 1667, 'senator': 3969, 'ms': 2953, 'difficult': 1249, 'welcome': 4884, 'ron': 3803, 'assist': 284, 'chicago': 784, 'introduced': 2276, 'duo': 1386, 'refusing': 3625, 'passion': 3196, 'leslie': 2580, 'spell': 4200, 'fortress': 1768, 'groups': 1964, 'moment': 2915, 'trade': 4601, 'ending': 1482, 'heat': 2048, 'wave': 4863, 'heavily': 2051, 'predator': 3380, 'r': 3512, 'harrigan': 2018, 'detectives': 1216, 'dismisses': 1284, 'effect': 1426, 'jerry': 2349, 'suspended': 4403, 'kicks': 2450, 'seeking': 3956, 'supernatural': 4371, 'ultimate': 4685, 'indicating': 2213, 'rendezvous': 3662, 'fleeing': 1711, 'central': 729, 'sudden': 4343, 'vic': 4765, 'fortune': 1770, 'africa': 84, 'marie': 2767, 'samuel': 3879, 'cargo': 675, 'purchase': 3483, 'cases': 696, 'beer': 416, 'destination': 1206, 'doors': 1328, 'laura': 2544, 'andrea': 169, 'check': 775, 'skills': 4120, 'leroy': 2579, 'florida': 1725, 'passed': 3191, 'aged': 90, 'nasa': 2992, 'louis': 2679, 'severe': 4005, 'explaining': 1574, 'communication': 909, 'boards': 505, 'robotic': 3781, 'biological': 468, 'homes': 2113, 'crashed': 1030, 'transfer': 4610, 'bat': 394, 'resulting': 3710, 'antics': 203, 'trigger': 4644, 'confined': 939, 'keys': 2445, 'fourth': 1774, 'celebration': 724, 'actors': 49, 'expedition': 1565, 'science': 3919, 'skeptical': 4119, 'participate': 3182, 'closer': 853, 'evidence': 1546, 'emerges': 1463, 'regarding': 3628, 'tale': 4432, 'giant': 1873, 'atop': 298, 'mountain': 2941, 'forcibly': 1749, 'knocking': 2484, 'placed': 3290, 'booth': 525, 'transported': 4615, 'bombay': 515, 'odd': 3088, 'twist': 4679, 'reaching': 3569, 'article': 259, 'published': 3472, 'raised': 3533, 'humanity': 2155, 'ice': 2169, 'box': 540, 'feed': 1653, 'aided': 104, 'net': 3027, 'catching': 708, 'touch': 4583, 'goon': 1910, 'guitar': 1977, 'bars': 384, 'elder': 1436, 'bag': 355, 'sgt': 4011, 'terry': 4495, 'grenade': 1954, 'mouth': 2944, 'pin': 3280, 'tarzan': 4448, 'golden': 1904, 'sound': 4179, 'doom': 1326, 'mud': 2954, 'den': 1181, 'ryan': 3848, 'prior': 3413, 'custody': 1081, 'community': 910, 'activity': 47, 'owns': 3149, 'liz': 2636, 'dogs': 1310, 'empire': 1469, 'destroying': 1210, 'managing': 2746, 'dropped': 1366, 'detonate': 1219, 'proud': 3458, 'gopal': 1913, 'janaki': 2326, 'raju': 3540, 'railway': 3529, 'holy': 2109, 'hindu': 2089, 'chain': 736, 'reception': 3600, 'overcome': 3139, 'creates': 1038, 'colony': 885, 'listening': 2626, 'construction': 962, 'australia': 327, 'charlie': 765, 'howard': 2145, 'mansion': 2754, 'climbing': 845, 'vinod': 4788, 'jai': 2321, 'joke': 2380, 'rejects': 3634, 'champion': 742, 'music': 2969, 'raft': 3522, 'escort': 1529, 'lt': 2691, 'dynamite': 1394, 'fear': 1645, 'faced': 1598, 'sadly': 3858, 'ordering': 3125, 'restored': 3707, 'wilbur': 4902, 'medicine': 2827, 'needed': 3012, 'spare': 4190, 'pretend': 3398, 'connect': 948, 'craig': 1027, 'mayor': 2812, 'merchant': 2848, 'st': 4228, 'strangers': 4299, 'hang': 1998, 'liking': 2609, 'brawl': 550, 'title': 4562, 'sunset': 4367, 'respectively': 3698, 'surprises': 4384, 'hitch': 2095, 'millionaire': 2877, 'brutal': 588, 'hans': 2003, 'von': 4810, 'getaway': 1868, 'anna': 189, 'professor': 3433, 'complex': 919, 'events': 1543, 'patrons': 3206, 'stranger': 4298, 'ned': 3010, 'kansas': 2420, 'somewhat': 4164, 'forrest': 1764, 'dodge': 1306, 'prefers': 3382, 'seat': 3942, 'canyon': 656, 'resort': 3695, 'ladies': 2515, 'wives': 4933, 'bored': 527, 'persuade': 3234, 'mrs': 2952, 'happiness': 2010, 'hates': 2028, 'intentions': 2267, 'pulled': 3475, 'falsely': 1621, 'direction': 1258, 'wayne': 4866, 'harsh': 2021, 'amy': 162, 'quarrel': 3497, 'holden': 2101, 'naval': 3001, 'attorney': 316, 'petty': 3242, 'hat': 2025, 'admiral': 63, 'reunion': 3724, 'despair': 1202, 'write': 4965, 'loss': 2673, 'lake': 2518, 'gallery': 1827, 'dolls': 1315, 'dust': 1387, 'heroin': 2075, 'doll': 1312, 'smuggling': 4147, 'silver': 4089, 'demon': 1178, 'martial': 2790, 'arts': 262, 'dave': 1118, 'thieves': 4513, 'rushes': 3843, 'curt': 1077, 'opponent': 3119, 'trick': 4639, 'engine': 1491, 'ram': 3542, 'tosses': 4582, 'spoiled': 4216, 'connie': 951, 'edith': 1420, 'classmates': 827, 'foreman': 1753, 'porter': 3346, 'hasn': 2024, 'sidekick': 4079, 'frog': 1805, 'fix': 1702, 'photographs': 3252, 'favor': 1642, 'contest': 969, 'prank': 3375, 'enjoys': 1497, 'spending': 4203, 'suffers': 4350, 'tramp': 4609, 'embassy': 1458, 'killers': 2460, 'cynthia': 1087, 'insurance': 2258, 'string': 4310, 'attila': 314, 'impress': 2195, 'provided': 3462, 'audience': 322, 'tire': 4559, 'breaking': 553, 'reasons': 3589, 'summons': 4364, 'honor': 2119, 'probably': 3420, 'gibson': 1874, 'scout': 3926, 'constantly': 961, 'desperately': 1204, 'julia': 2396, 'cab': 630, 'passage': 3190, 'snake': 4148, 'fell': 1660, 'carried': 684, 'nurse': 3075, 'curtis': 1079, 'brett': 557, 'hawk': 2032, 'georgia': 1863, 'celebrating': 723, 'watching': 4858, 'goal': 1896, 'request': 3679, 'serves': 3991, 'charm': 767, 'struggling': 4317, 'rodeo': 3789, 'daniel': 1107, 'pop': 3339, 'claire': 821, 'jed': 2340, 'coffin': 871, 'singing': 4102, 'sings': 4104, 'virginia': 4794, 'improve': 2199, 'drawing': 1347, 'jackie': 2318, 'reaction': 3570, 'raise': 3532, 'connection': 950, 'books': 524, 'madison': 2714, 'angela': 175, 'meg': 2833, 'inherited': 2230, 'rancher': 3549, 'benson': 446, 'banker': 374, 'hesitates': 2076, 'cottage': 1005, 'wood': 4942, 'satan': 3894, 'fun': 1813, 'hazel': 2033, 'pigs': 3273, 'appearance': 216, 'cash': 698, 'loan': 2642, 'jumping': 2403, 'stunned': 4328, 'tree': 4633, 'distracts': 1289, 'particular': 3183, 'ralph': 3541, 'wears': 4875, 'type': 4682, 'suite': 4358, 'traveler': 4623, 'television': 4476, 'f': 1596, 'bobby': 508, 'vince': 4785, 'respective': 3697, 'convincing': 983, 'obsessed': 3082, 'harvey': 2023, 'ruby': 3825, 'washington': 4853, 'warren': 4850, 'murphy': 2965, 'kid': 2451, 'rick': 3745, 'ray': 3565, 'staring': 4244, 'stream': 4302, 'tv': 4674, 'rocky': 3787, 'nightmare': 3044, 'experiences': 1568, 'comments': 899, 'implying': 2192, 'host': 2133, 'reacts': 3571, 'scream': 3927, 'foot': 1743, 'opposite': 3121, 'national': 2996, 'revolves': 3737, 'exploring': 1580, 'surroundings': 4388, 'gorilla': 1916, 'fred': 1788, 'witch': 4928, 'reference': 3618, 'joan': 2366, 'setting': 3999, 'cook': 985, 'invisible': 2287, 'dylan': 1393, 'bathroom': 396, 'mentions': 2845, 'maggie': 2718, 'dalton': 1095, 'accepting': 22, 'smashes': 4139, 'throat': 4534, 'conduct': 930, 'turner': 4671, 'cat': 705, 'lamp': 2521, 'corner': 996, 'protective': 3455, 'transferred': 4611, 'declare': 1147, 'silent': 4088, 'knight': 2480, 'serum': 3986, 'radiation': 3519, 'fired': 1694, 'pig': 3271, 'reason': 3588, 'poisoned': 3324, 'rat': 3561, 'heather': 2049, 'watched': 4856, 'loren': 2668, 'carey': 674, 'charley': 764, 'partners': 3186, 'blind': 493, 'activities': 46, 'barn': 378, 'wishes': 4926, 'tin': 4554, 'ashore': 268, 'employee': 1470, 'delivers': 1173, 'deborah': 1137, 'increasingly': 2207, 'gary': 1844, 'cooper': 986, 'convicted': 979, 'culprit': 1066, 'businessman': 620, 'employees': 1471, 'trial': 4636, 'receive': 3594, 'gray': 1943, 'eric': 1519, 'stock': 4280, 'market': 2777, 'brooke': 577, 'claim': 818, 'innocence': 2241, 'style': 4329, 'insistence': 2246, 'norma': 3057, 'lewis': 2592, 'package': 3154, 'button': 624, 'stewart': 4275, 'voice': 4805, 'attending': 310, 'education': 1423, 'dollars': 1314, 'discussing': 1276, 'bunch': 606, 'scared': 3912, 'dollar': 1313, 'pushes': 3491, 'briefcase': 564, 'treat': 4629, 'colleague': 879, 'mars': 2784, 'visited': 4800, 'stricken': 4306, 'restoring': 3708, 'forth': 1767, 'credit': 1042, 'affairs': 81, 'taylor': 4455, 'proper': 3446, 'hamilton': 1992, 'paint': 3160, 'wise': 4924, 'circle': 812, 'murray': 2966, 'sick': 4076, 'hart': 2022, 'legendary': 2573, 'walker': 4825, 'davis': 1121, 'diamonds': 1235, 'claude': 828, 'seduce': 3952, 'entry': 1514, 'raped': 3559, 'pool': 3337, 'games': 1832, 'triangle': 4637, 'solve': 4163, 'colorado': 887, 'polly': 3332, 'alfred': 126, 'bell': 435, 'adams': 57, 'image': 2184, 'cards': 668, 'jackson': 2319, 'heal': 2039, 'stars': 4245, 'ronnie': 3804, 'clifford': 842, 'matthews': 2808, 'framed': 1777, 'behalf': 426, 'independent': 2208, 'joyce': 2392, 'wire': 4923, 'mistakes': 2902, 'posse': 3353, 'acquainted': 39, 'rita': 3766, 'enlists': 1498, 'sexual': 4009, 'today': 4566, 'woo': 4941, 'persuaded': 3235, 'families': 1624, 'deals': 1131, 'mess': 2853, 'isolated': 2306, 'sphere': 4207, 'toni': 4574, 'erica': 1520, 'bates': 395, 'current': 1073, 'distract': 1287, 'narrates': 2987, 'presumed': 3397, 'airplane': 107, 'gifts': 1876, 'huge': 2151, 've': 4752, 'continuing': 973, 'emerge': 1461, 'session': 3995, 'pooja': 3336, 'kumar': 2501, 'kamal': 2419, 'secrets': 3948, 'investigator': 2285, 'tail': 4428, 'probe': 3421, 'divorce': 1296, 'muslim': 2972, 'khan': 2446, 'omar': 3108, 'diary': 1238, 'terror': 4492, 'salim': 3873, 'guest': 1972, 'bombing': 517, 'shekhar': 4036, 'bomber': 516, 'picking': 3262, 'tape': 4444, 'jared': 2333, 'status': 4256, 'punishment': 3479, 'lou': 2676, 'jenny': 2347, 'ruse': 3841, 'league': 2556, 'hugo': 2153, 'pursued': 3486, 'sharon': 4028, 'mason': 2796, 'corey': 994, 'exist': 1558, 'drake': 1344, 'neighbors': 3019, 'manny': 2752, 'jewish': 2359, 'marina': 2769, 'cobra': 867, 'twice': 4676, 'spends': 4204, 'kirk': 2470, 'moving': 2949, 'slams': 4125, 'places': 3291, 'cheer': 777, 'bob': 507, 'stanley': 4241, 'price': 3406, 'pete': 3238, 'fingers': 1689, 'confession': 935, 'hungry': 2160, 'relative': 3639, 'unnamed': 4716, 'paid': 3158, 'florence': 1724, 'maxim': 2810, 'winter': 4922, 'beauty': 413, 'rebecca': 3590, 'bedroom': 415, 'favorite': 1643, 'sanders': 3882, 'jump': 2402, 'intended': 2261, 'grew': 1956, 'affair': 80, 'laughing': 2540, 'beloved': 439, 'coach': 863, 'staff': 4233, 'gil': 1879, 'incidents': 2203, 'townspeople': 4593, 'raising': 3535, 'beth': 452, 'hanged': 1999, 'immediate': 2186, 'lawrence': 2547, 'silence': 4087, 'zhang': 4993, 'unexpected': 4701, 'situations': 4115, 'actress': 50, 'liu': 2631, 'focus': 1731, 'ada': 55, 'gant': 1838, 'arizona': 234, 'luke': 2697, 'greets': 1951, 'tour': 4586, 'pierce': 3270, 'propose': 3449, 'didn': 1242, 'alcohol': 119, 'demand': 1175, 'prompting': 3443, 'rip': 3760, 'dress': 1353, 'grab': 1923, 'hammer': 1993, 'lara': 2530, 'eclipse': 1414, 'powell': 3366, 'anniversary': 192, 'destructive': 1213, 'grants': 1938, 'reflection': 3620, 'seconds': 3944, 'proves': 3460, 'guardian': 1970, 'diving': 1295, 'monk': 2921, 'teams': 4463, 'crossing': 1056, 'picture': 3265, 'simon': 4092, 'smile': 4140, 'marked': 2776, 'exam': 1551, 'sally': 3874, 'replace': 3669, 'hector': 2053, 'robots': 3782, 'recognize': 3601, 'wake': 4821, 'rooms': 3809, 'loggins': 2654, 'harris': 2019, 'bribe': 559, 'karl': 2424, 'nice': 3035, 'monique': 2920, 'blair': 484, 'natalie': 2993, 'cafe': 632, 'aside': 269, 'delighted': 1170, 'church': 808, 'weekend': 4880, 'yes': 4981, 'brave': 549, 'permission': 3228, 'admit': 64, 'enormous': 1499, 'dump': 1382, 'romance': 3799, 'hour': 2139, 'halt': 1990, 'log': 2652, 'entirely': 1511, 'unharmed': 4705, 'clearly': 836, 'settlers': 4002, 'emily': 1464, 'evelyn': 1540, 'derek': 1192, 'honeymoon': 2117, 'admitted': 66, 'technology': 4466, 'sleeps': 4131, 'highway': 2086, 'purpose': 3484, 'minor': 2887, 'duties': 1390, 'mount': 2940, 'lights': 2605, 'ad': 54, 'odin': 3092, 'n': 2978, 'thor': 4521, 'erik': 1521, 'phil': 3244, 'lift': 2602, 'exile': 1557, 'unhappy': 4704, 'kissing': 2474, 'proving': 3465, 'shaped': 4021, 'features': 1649, 'monstrous': 2925, 'concert': 925, 'musician': 2971, 'patricia': 3203, 'jealous': 2337, 'forrester': 1765, 'routine': 3819, 'ramu': 3545, 'sail': 3865, 'twin': 4677, 'volcano': 4808, 'resist': 3690, 'magazine': 2717, 'photo': 3249, 'imperial': 2190, 'selfish': 3965, 'cannon': 655, 'consider': 955, 'pole': 3326, 'developing': 1225, 'broke': 574, 'bo': 502, 'milk': 2874, 'junior': 2407, 'attractive': 319, 'fed': 1651, 'fan': 1627, 'christmas': 803, 'tunnel': 4668, 'teenage': 4470, 'gambling': 1830, 'debts': 1139, 'torch': 4578, 'collection': 882, 'alerts': 123, 'ruining': 3831, 'failing': 1607, 'steel': 4264, 'trips': 4647, 'insults': 2257, 'shouts': 4064, 'settled': 4001, 'population': 3342, 'channel': 754, 'da': 1089, 'consists': 959, 'rodney': 3790, 'paris': 3177, 'ego': 1432, 'mole': 2912, 'ritual': 3767, 'oil': 3103, 'keller': 2436, 'ward': 4841, 'leonard': 2578, 'nephew': 3024, 'nigel': 3041, 'dive': 1293, 'landed': 2523, 'county': 1011, 'neil': 3020, 'grandson': 1935, 'monsters': 2924, 'spain': 4188, 'legal': 2571, 'began': 420, 'identifies': 2173, 'rights': 3756, 'miller': 2875, 'spanish': 4189, 'carriage': 683, 'satellite': 3895, 'council': 1006, 'vanessa': 4746, 'philip': 3245, 'toby': 4564, 'benedict': 442, 'colin': 876, 'perry': 3229, 'orphaned': 3133, 'jessie': 2354, 'chip': 793, 'passing': 3195, 'tie': 4544, 'sean': 3937, 'scolds': 3922, 'frustrated': 1807, 'teeth': 4473, 'marks': 2778, 'bites': 476, 'mcclane': 2814, 'matthew': 2807, 'mai': 2723, 'crack': 1026, 'poses': 3349, 'broadcast': 573, 'natural': 2999, 'canada': 651, 'wrote': 4971, 'extremely': 1593, 'talented': 4434, 'alert': 122, 'estranged': 1532, 'lucy': 2696, 'files': 1676, 'phantom': 3243, 'invention': 2280, 'unseen': 4717, 'followers': 1736, 'pearl': 3216, 'conan': 922, 'wheel': 4893, 'pain': 3159, 'jewels': 2358, 'cult': 1067, 'hatred': 2029, 'spirits': 4213, 'princess': 3411, 'nemesis': 3022, 'ugly': 4684, 'satisfied': 3897, 'frances': 1779, 'alan': 116, 'dease': 1133, 'rules': 3834, 'consequences': 954, 'smoking': 4146, 'lil': 2610, 'mama': 2739, 'wet': 4891, 'monica': 2919, 'aisha': 110, 'nelson': 3021, 'gift': 1875, 'necklace': 3009, 'narration': 2988, 'creating': 1039, 'conditions': 929, 'terrible': 4489, 'britain': 571, 'mae': 2715, 'communicate': 908, 'trevor': 4635, 'clone': 850, 'required': 3681, 'taught': 4452, 'cobb': 866, 'heir': 2055, 'houses': 2144, 'sydney': 4421, 'level': 2590, 'deeper': 1156, 'simultaneously': 4096, 'explore': 1579, 'testing': 4498, 'alma': 144, 'depression': 1190, 'kitty': 2477, 'sara': 3891, 'hansen': 2004, 'rural': 3840, 'diane': 1237, 'ashley': 266, 'quick': 3503, 'birds': 470, 'rats': 3563, 'scare': 3911, 'terri': 4488, 'screaming': 3928, 'windows': 4915, 'weight': 4883, 'oblivious': 3080, 'holmes': 2108, 'baker': 359, 'adventures': 76, 'magical': 2720, 'secretary': 3946, 'issues': 2308, 'studies': 4323, 'stan': 4237, 'wei': 4882, 'fat': 1636, 'assignment': 282, 'phones': 3248, 'cartoon': 693, 'theater': 4507, 'gate': 1846, 'platform': 3304, 'extended': 1589, 'culture': 1068, 'dinosaurs': 1257, 'jacket': 2317, 'narrator': 2989, 'reynolds': 3740, 'greg': 1952, 'marines': 2771, 'comedy': 891, 'straw': 4301, 'plants': 3302, 'blast': 490, 'casper': 700, 'marshal': 2786, 'recruits': 3613, 'ella': 1448, 'heaven': 2050, 'gathering': 1848, 'suffer': 4347, 'makeshift': 2730, 'dressed': 1354, 'karthik': 2425, 'arrogant': 255, 'seetha': 3962, 'thousands': 4527, 'vikram': 4779, 'kabir': 2415, 'sounds': 4180, 'horn': 2126, 'miserable': 2892, 'sub': 4330, 'count': 1007, 'surgery': 4381, 'rover': 3820, 'teddy': 4468, 'annie': 191, 'kapoor': 2421, 'partially': 3181, 'text': 4502, 'iris': 2298, 'instructions': 2255, 'nose': 3062, 'glove': 1895, 'pressure': 3395, 'v': 4736, 'sylvia': 4423, 'ann': 188, 'fish': 1699, 'snakes': 4149, 'dale': 1094, 'capital': 659, 'suspicions': 4405, 'familiar': 1623, 'singer': 4099, 'billie': 466, 'ellis': 1452, 'overheard': 3140, 'aging': 95, 'startled': 4249, 'suggestion': 4352, 'mute': 2973, 'finished': 1691, 'resume': 3712, 'resident': 3688, 'drew': 1356, 'inheritance': 2229, 'jupiter': 2408, 'declaring': 1149, 'clinic': 847, 'doctors': 1303, 'bees': 417, 'identical': 2172, 'completes': 917, 'ganesh': 1833, 'homeless': 2111, 'problems': 3423, 'burnt': 615, 'bears': 406, 'sultan': 4360, 'catherine': 709, 'sits': 4112, 'marrying': 2783, 'winds': 4916, 'roman': 3798, 'teach': 4458, 'laughs': 2541, 'positive': 3352, 'visions': 4798, 'shadow': 4012, 'heartbroken': 2046, 'lomax': 2656, 'keeping': 2432, 'mallory': 2738, 'pat': 3198, 'burke': 610, 'merlin': 2850, 'damon': 1099, 'blake': 485, 'mccabe': 2813, 'palmer': 3166, 'angrily': 179, 'block': 494, 'barrel': 381, 'branch': 548, 'reddy': 3615, 'blackmails': 482, 'desk': 1201, 'dam': 1096, 'tex': 4500, 'owen': 3145, 'specialist': 4196, 'orphanage': 3132, 'noah': 3048, 'basketball': 393, 'talent': 4433, 'vaughn': 4751, 'accepted': 21, 'dumps': 1383, 'mean': 2817, 'isn': 2305, 'related': 3635, 'option': 3122, 'epilogue': 1515, 'conference': 931, 'religious': 3647, 'wheelchair': 4894, 'pedro': 3217, 'troy': 4655, 'fashion': 1634, 'jamie': 2325, 'retreats': 3717, 'promoted': 3441, 'shiva': 4047, 'lakshmi': 2520, 'gowri': 1922, 'packs': 3155, 'butch': 622, 'enterprise': 1508, 'beam': 404, 'accidental': 26, 'assumed': 291, 'proclaims': 3427, 'gangsters': 1837, 'dejected': 1165, 'crane': 1028, 'elizabeth': 1447, 'flora': 1723, 'enchanted': 1475, 'slaves': 4128, 'uniform': 4706, 'knights': 2481, 'editor': 1421, 'bond': 519, 'actual': 52, 'nicole': 3039, 'seals': 3936, 'marc': 2757, 'bugs': 595, 'shawn': 4032, 'adrian': 70, 'christine': 802, 'kevin': 2443, 'seal': 3935, 'drag': 1339, 'sticks': 4277, 'hatch': 2026, 'campbell': 648, 'tip': 4558, 'christopher': 804, 'reno': 3663, 'tickets': 4543, 'cunningham': 1069, 'jewel': 2357, 'leaps': 2557, 'darkness': 1113, 'amar': 147, 'suraj': 4377, 'rajiv': 3539, 'anand': 164, 'duck': 1377, 'holiday': 2105, 'germany': 1867, 'invitation': 2288, 'clara': 822, 'gale': 1825, 'voiced': 4806, 'captures': 664, 'la': 2509, 'announce': 193, 'elliot': 1451, 'x': 4973, 'margaret': 2762, 'tommy': 4572, 'scotland': 3924, 'summoned': 4363, 'swallows': 4408, 'stomach': 4283, 'murdering': 2962, 'lin': 2616, 'australian': 328, 'lesson': 2581, 'plant': 3299, 'mona': 2917, 'rod': 3788, 'andy': 172, 'stronger': 4313, 'rana': 3547, 'precious': 3379, 'victoria': 4772, 'dragged': 1340, 'voices': 4807, 'ticket': 4542, 'descends': 1193, 'erin': 1522, 'cares': 672, 'lloyd': 2638, 'santa': 3889, 'ghosts': 1872, 'koo': 2494, 'kit': 2475, 'ken': 2439, 'trash': 4620, 'football': 1745, 'barney': 379, 'louise': 2680, 'record': 3605, 'penny': 3220, 'carefree': 671, 'lunch': 2700, 'eating': 1411, 'drama': 1345, 'roles': 3795, 'anita': 186, 'audrey': 324, 'eaten': 1410, 'gigantic': 1877, 'size': 4117, 'insects': 2244, 'abel': 7, 'assigns': 283, 'macgregor': 2708, 'poverty': 3365, 'duke': 1381, 'freeing': 1795, 'glen': 1891, 'blade': 483, 'joey': 2372, 'spike': 4210, 'awakened': 338, 'aaron': 0, 'dragon': 1342, 'garbage': 1840, 'hood': 2120, 'page': 3157, 'robin': 3778, 'cheryl': 782, 'picnic': 3264, 'embarrassed': 1457, 'todd': 4567, 'drinks': 1359, 'spite': 4214, 'boulder': 534, 'barry': 383, 'shopping': 4057, 'daniels': 1109, 'jo': 2365, 'rolls': 3797, 'quits': 3510, 'roll': 3796, 'crown': 1058, 'shower': 4065, 'transform': 4612, 'kathy': 2429, 'remembering': 3655, 'explode': 1577, 'laurie': 2545, 'jill': 2360, 'rips': 3761, 'avail': 332, 'lower': 2688, 'promotion': 3442, 'mirror': 2891, 'fur': 1815, 'tragedy': 4604, 'tyler': 4681, 'clue': 861, 'customer': 1082, 'manoj': 2753, 'jeeva': 2343, 'samantha': 3877, 'express': 1587, 'noticing': 3067, 'sanjana': 3887, 'disappointed': 1267, 'scar': 3910, 'birthday': 472, 'theatre': 4508, 'disgust': 1281, 'elsa': 1456, 'casually': 704, 'trees': 4634, 'horton': 2131, 'woody': 4945, 'extent': 1590, 'arya': 264, 'kalyan': 2418, 'paradise': 3175, 'fond': 1739, 'switches': 4418, 'crush': 1062, 'sandy': 3886, 'fully': 1812, 'eleanor': 1438, 'worry': 4957, 'gay': 1851, 'franklin': 1786, 'ape': 210, 'archie': 227, 'stepfather': 4268, 'mouse': 2943, 'amusement': 161, 'missiles': 2896, 'painted': 3161, 'closet': 855, 'legs': 2574, 'lillian': 2614, 'kay': 2431, 'thornton': 4523, 'shed': 4033, 'core': 993, 'fades': 1604, 'airship': 109, 'wouldn': 4960, 'cora': 992, 'noise': 3051, 'jean': 2339, 'shy': 4073, 'wolves': 4936, 'wolf': 4935, 'pack': 3153, 'jay': 2336, 'bloody': 497, 'cake': 634, 'committee': 905, 'p': 3151, 'casino': 699, 'tune': 4667, 'therapy': 4510, 'embraces': 1460, 'peggy': 3218, 'pink': 3281, 'classes': 825, 'frantically': 1787, 'abruptly': 15, 'pirates': 3285, 'pirate': 3284, 'sandra': 3884, 'earthquake': 1405, 'releasing': 3644, 'floating': 1719, 'widowed': 4900, 'hook': 2121, 'marian': 2766, 'knock': 2482, 'cries': 1047, 'neighboring': 3018, 'ivy': 2313, 'climbs': 846, 'charlotte': 766, 'buzz': 628, 'ace': 36, 'kwon': 2505, 'danielle': 1108, 'ashok': 267, 'yogi': 4982, 'services': 3993, 'preeti': 3381, 'seema': 3958, 'jonathan': 2384, 'alicia': 130, 'michelle': 2864, 'marco': 2760, 'veronica': 4761, 'vetri': 4764, 'mills': 2878, 'everybody': 1545, 'forget': 1756, 'ernest': 1523, 'convent': 977, 'truly': 4658, 'davey': 1119, 'nicholas': 3036, 'dances': 1103, 'disguises': 1280, 'fooled': 1742, 'cary': 694, 'din': 1253, 'hare': 2013, 'spirit': 4211, 'bully': 604, 'quan': 3496, 'morgue': 2931, 'salesman': 3872, 'stella': 4266, 'doyle': 1336, 'neighbor': 3016, 'yells': 4980, 'flowers': 1727, 'reading': 3573, 'sylvester': 4422, 'piano': 3259, 'donnie': 1324, 'rabbit': 3513, 'golf': 1905, 'flood': 1721, 'gym': 1985, 'lessons': 2582, 'bullies': 603, 'seth': 3997, 'ricky': 3746, 'touched': 4584, 'zombie': 4996, 'bright': 567, 'literally': 2628, 'focuses': 1732, 'janice': 2329, 'color': 886, 'sheela': 4034, 'unemployed': 4700, 'arjun': 235, 'sunny': 4366, 'kiran': 2469, 'prem': 3385, 'dolly': 1316, 'maid': 2724, 'wallace': 4829, 'sand': 3881, 'academy': 19, 'racing': 3517, 'pops': 3340, 'monkey': 2922, 'rex': 3739, 'fixed': 1703, 'fame': 1622, 'ivan': 2312, 'violet': 4792, 'sisters': 4109, 'tennis': 4482, 'sexually': 4010, 'relationships': 3638, 'stairs': 4235, 'geetha': 1854, 'lair': 2517, 'stavros': 4257, 'julius': 2400, 'las': 2534, 'vegas': 4754, 'coin': 872, 'greta': 1955, 'possessed': 3354, 'gallagher': 1826, 'boston': 531, 'sacrifices': 3855, 'pond': 3334, 'changing': 753, 'charming': 768, 'amos': 158, 'whitey': 4898, 'sonia': 4169, 'advertising': 77, 'grade': 1927, 'cast': 702, 'designer': 1199, 'jock': 2369, 'bike': 465, 'delivery': 1174, 'kishore': 2471, 'pub': 3469, 'achieve': 37, 'witnessed': 4931, 'dong': 1321, 'aravind': 225, 'reconciles': 3604, 'bryan': 590, 'pam': 3167, 'logan': 2653, 'award': 340, 'household': 2142, 'daisy': 1093, 'vani': 4747, 'vishal': 4796, 'karan': 2422, 'mini': 2884, 'holly': 2106, 'val': 4739, 'tow': 4589, 'janitor': 2330, 'blank': 489, 'opened': 3111, 'phillip': 3246, 'museum': 2968, 'janet': 2328, 'bucket': 592, 'tourists': 4587, 'gabe': 1820, 'vinay': 4784, 'isha': 2303, 'forgotten': 1760, 'kincaid': 2464, 'deepa': 1154, 'divya': 1298, 'orin': 3130, 'sit': 4110, 'trish': 4648, 'felt': 1662, 'sitting': 4113, 'faith': 1614, 'rosa': 3812, 'painting': 3163, 'dolores': 1317, 'abortion': 13, 'ireland': 2296, 'oscar': 3134, 'morrison': 2934, 'jesus': 2355, 'telegram': 4474, 'homer': 2112, 'workshop': 4954, 'patch': 3199, 'custer': 1080, 'glory': 1894, 'benjamin': 443, 'zane': 4992, 'attic': 313, 'calvin': 641, 'shanti': 4018, 'kathleen': 2428, 'bats': 398, 'opera': 3114, 'rachel': 3516, 'batman': 397, 'fox': 1775, 'yu': 4987, 'creek': 1044, 'mia': 2861, 'dominic': 1318, 'julian': 2397, 'jordan': 2386, 'bernard': 448, 'marsh': 2785, 'bone': 520, 'awkward': 343, 'nervous': 3025, 'fine': 1687, 'tess': 4496, 'personality': 3232, 'clay': 832, 'gloria': 1893, 'jacob': 2320, 'werewolf': 4888, 'rohit': 3793, 'sanjay': 3888, 'shalini': 4015, 'riya': 3770, 'tanya': 4443, 'pitch': 3288, 'sapna': 3890, 'practical': 3372, 'remarks': 3653, 'denise': 1183, 'egypt': 1433, 'panics': 3172, 'catholic': 710, 'manik': 2749, 'hari': 2014, 'marcus': 2761, 'bart': 385, 'nandini': 2985, 'carson': 691, 'jedi': 2341, 'ding': 1255, 'ling': 2620, 'behaviour': 428, 'excited': 1553, 'amnesia': 157, 'shape': 4020, 'jessica': 2353, 'waking': 4823, 'gus': 1981, 'vera': 4760, 'produces': 3430, 'marti': 2789, 'roommate': 3808, 'justin': 2412, 'songs': 4168, 'guests': 1973, 'ant': 200, 'covers': 1022, 'talisman': 4435, 'bags': 356, 'stu': 4318, 'shizuka': 4048, 'chairman': 738, 'diner': 1254, 'jury': 2409, 'tina': 4555, 'sandwich': 3885, 'jabba': 2315, 'anakin': 163, 'walt': 4832, 'pot': 3360, 'radha': 3518, 'feathers': 1648, 'reported': 3674, 'miriam': 2890, 'rudolph': 3826, 'stargher': 4243, 'writer': 4966, 'claudio': 830, 'avoids': 336, 'felix': 1659, 'rudy': 3828, 'ears': 1403, 'jonas': 2383, 'rooster': 3810, 'april': 224, 'frankie': 1785, 'bobo': 509, 'lola': 2655, 'georges': 1862, 'pride': 3407, 'moses': 2936, 'diego': 1245, 'menon': 2842, 'frankenstein': 1784, 'babies': 347, 'knox': 2491, 'bowl': 538, 'rocklin': 3785, 'gabby': 1819, 'ming': 2883, 'novel': 3069, 'studio': 4324, 'richie': 3744, 'newfound': 3030, 'wyatt': 4972, 'puppy': 3482, 'abby': 6, 'lucas': 2693, 'abhi': 8, 'katie': 2430, 'vasu': 4750, 'varun': 4749, 'vain': 4738, 'fletcher': 1715, 'emma': 1465, 'bruno': 587, 'forgets': 1757, 'scandal': 3909, 'fulfill': 1811, 'glasses': 1890, 'mandy': 2747, 'campers': 649, 'eagle': 1397, 'kristi': 2500, 'nithya': 3047, 'tod': 4565, 'granny': 1936, 'vicky': 4768, 'candy': 654, 'overjoyed': 3142, 'rishi': 3764, 'fender': 1665, 'tired': 4560, 'siblings': 4075, 'overnight': 3143, 'cindy': 811, 'sadie': 3857, 'gayathri': 1852, 'balcony': 364, 'lakshman': 2519, 'ramesh': 3543, 'bhavani': 461, 'bala': 361, 'chandu': 748, 'sad': 3856, 'doris': 1330, 'nibbles': 3034, 'naruto': 2991, 'sakura': 3870, 'bunny': 608, 'producer': 3429, 'elmer': 1453, 'fudd': 1809, 'cherry': 781, 'pie': 3267, 'filming': 1679, 'oh': 3102, 'shark': 4026, 'cheese': 778, 'fantasy': 1628, 'pets': 3241, 'puppies': 3481, 'toad': 4563, 'brick': 560, 'muriel': 2964, 'tyke': 4680, 'carrot': 687, 'shake': 4014, 'foghorn': 1733, 'hollywood': 2107, 'porky': 3343, 'thumbelina': 4541, 'lily': 2615, 'flock': 1720, 'beetle': 418, 'honey': 2116, 'bambi': 369, 'script': 3931, 'israel': 2307, 'preach': 3378, 'bowling': 539, 'ash': 265, 'pikachu': 3274, 'eats': 1412, 'soup': 4181, 'genie': 1859, 'mice': 2862, 'library': 2594, 'mima': 2880, 'fairies': 1612, 'fairy': 1613, 'entei': 1504, 'balls': 367, 'fireplace': 1695, 'whacks': 4892, 'drek': 1352, 'ratchet': 3562, 'qwark': 3511, 'scaring': 3913, 'louie': 2678, 'boo': 521, 'donkey': 1322, 'ducks': 1378, 'toodles': 4576, 'basket': 392, 'crab': 1025, 'ellie': 1450, 'rainbow': 3531, 'universe': 4711, 'shoes': 4051, 'goofy': 1909, 'marji': 2773, 'enjoying': 1496, 'brooks': 578, 'hoppity': 2125, 'spirited': 4212, 'toys': 4595, 'tuffy': 4666, 'scrooge': 3932, 'ginny': 1881, 'downstairs': 1335, 'jiminy': 2362, 'isabelle': 2302, 'daffy': 1091, 'smitten': 4144, 'snoopy': 4154, 'patty': 3207, 'lila': 2611, 'genuine': 1860, 'els': 1455, 'cousins': 1018, 'benny': 445, 'boris': 528, 'dracula': 1338, 'mummy': 2958, 'francesca': 1780, 'zombies': 4997, 'dil': 1252, 'freddy': 1790, 'coyote': 1024, 'maddy': 2712, 'goku': 1902, 'gohan': 1900, 'trunks': 4660, 'saiyan': 3868, 'vegeta': 4755, 'mammy': 2740, 'broom': 579, 'greenie': 1949, 'penguins': 3219, 'disappointment': 1268, 'curtain': 1078, 'vines': 4787, 'rj': 3771, 'suburban': 4336, 'development': 1226, 'forgive': 1758, 'election': 1439, 'pi': 3257, 'gintoki': 1882, 'pinocchio': 3282, 'blonde': 495, 'tigger': 4549, 'pooh': 3335, 'piglet': 3272, 'roo': 3805, 'syaoran': 4420, 'mermaid': 2851, 'keldeo': 2435, 'kyurem': 2507, 'stooges': 4285, 'bumps': 605, 'tio': 4557, 'nobita': 3049, 'doraemon': 1329, 'crocodile': 1053, 'maya': 2811, 'goten': 1918, 'stefan': 4265, 'aurora': 326, 'hubert': 2147, 'blessing': 492, 'maleficent': 2736, 'claus': 831, 'littlefoot': 2630, 'sperm': 4206, 'judy': 2395, 'tiffany': 4547, 'pike': 3275, 'mugsy': 2955, 'shinji': 4042, 'rei': 3632, 'simone': 4093, 'leafie': 2555, 'looney': 2665, 'caller': 637, 'igor': 2179, 'audition': 323, 'comic': 894, 'witches': 4929, 'wile': 4905, 'quacker': 3495, 'finch': 1684, 'copper': 989, 'tweety': 4675, 'tat': 4450, 'lenny': 2575, 'stitch': 4279, 'taz': 4456, 'muscles': 2967, 'pup': 3480, 'harlock': 2015, 'yama': 4975, 'nami': 2983, 'aspiring': 275, 'lucario': 2692, 'chocolate': 794, 'ham': 1991, 'luna': 2699, 'basil': 391, 'negi': 3014, 'asuna': 295, 'flint': 1718, 'spencer': 4201, 'lumpy': 2698, 'milo': 2879, 'cera': 732, 'chomper': 796, 'lupin': 2702, 'twins': 4678, 'animator': 185, 'bachelor': 350, 'cruella': 1060, 'shin': 4041, 'painter': 3162, 'deepak': 1155, 'goose': 1912, 'yuki': 4988, 'chapter': 757, 'broly': 576, 'eeyore': 1425, 'olivia': 3107, 'simba': 4090, 'garfield': 1842, 'marijuana': 2768, 'shaggy': 4013, 'dawg': 1122, 'hubie': 2148, 'devi': 1228, 'willard': 4906, 'cornelius': 995, 'casey': 697, 'expensive': 1566, 'asura': 296, 'wakasa': 4820, 'demons': 1180, 'shrek': 4069, 'fiona': 1693, 'artie': 260, 'hercules': 2069, 'eliza': 1446, 'bree': 555, 'debbie': 1136, 'megan': 2834, 'boog': 522, 'shaw': 4031, 'goddard': 1898, 'mikey': 2871, 'rafael': 3521, 'juliet': 2399, 'ref': 3617, 'invid': 2286, 'ariel': 232, 'virgin': 4793, 'kiara': 2448, 'baloo': 368, 'herman': 2071, 'kaguya': 2417, 'genesect': 1858, 'tomoki': 4573, 'hiyori': 2098, 'reggie': 3629, 'amour': 159, 'adora': 69, 'arlo': 236, 'velvet': 4757, 'garrett': 1843, 'odette': 3090, 'joel': 2371, 'saya': 3905, 'mowgli': 2950, 'eileen': 1434, 'amelia': 152, 'sophia': 4173, 'aliyah': 135, 'sae': 3859, 'zach': 4990, 'donovan': 1325, 'raghu': 3525, 'beverly': 457, 'paddy': 3156, 'lili': 2612, 'gopi': 1914, 'bakshi': 360, 'singhania': 4101, 'sophie': 4174, 'paula': 3209, 'isabel': 2301, 'divorced': 1297, 'vivian': 4804, 'daphne': 1111, 'ethan': 1533, 'gigi': 1878, 'kris': 2497, 'carlotta': 679, 'aubrey': 321, 'clients': 840, 'susie': 4399, 'amanda': 146, 'dusty': 1388, 'thorndyke': 4522, 'indra': 2215, 'stephanie': 4269, 'sidney': 4081, 'neha': 3015, 'clouseau': 859, 'kunal': 2502, 'aarti': 1, 'dunne': 1385, 'aldous': 121, 'sandhya': 3883, 'margie': 2763, 'odie': 3091, 'raghav': 3524, 'angus': 181, 'theresa': 4511, 'rhodes': 3741, 'sonali': 4166, 'lacrosse': 2514, 'pamela': 3168, 'ang': 173, 'huck': 2149, 'helsing': 2065, 'dicky': 1240, 'jimmie': 2363, 'kingsley': 2468, 'pogue': 3320, 'doug': 1333, 'akash': 114, 'puja': 3473, 'kolkata': 2492, 'anil': 182, 'eden': 1417, 'rigby': 3754, 'stillwell': 4278, 'noora': 3055, 'zoya': 4999, 'naina': 2979, 'heera': 2054, 'benji': 444, 'mika': 2869, 'devika': 1230, 'clemmons': 837, 'meenakshi': 2828, 'sayuri': 3908, 'nisha': 3046, 'madhu': 2713, 'rajeev': 3538, 'mcteague': 2815, 'zinga': 4994, 'leela': 2568, 'sachin': 3852, 'ganga': 1835, 'suzie': 4407, 'balakrishnan': 362, 'xiaochun': 4974, 'gilman': 1880, 'sudheer': 4345, 'marcellus': 2758, 'thakur': 4503, 'lilli': 2613, 'ajit': 112, 'hud': 2150, 'vivek': 4803, 'hundert': 2159, 'manu': 2755, 'ingram': 2227, 'bhanupratap': 460, 'carly': 680, 'naomi': 2986, 'pia': 3258, 'zoe': 4995, 'gekko': 1855, 'justine': 2413, 'pang': 3170, 'marke': 2775, 'tristan': 4649, 'arun': 263, 'pollyanna': 3333, 'ayaan': 345, 'shwetha': 4072, 'hermie': 2072, 'gautham': 1849, 'prabha': 3371, 'siddharth': 4078, 'rashmi': 3560, 'malar': 2734, 'kundan': 2503, 'tarun': 4447, 'krish': 2498, 'ananya': 165, 'sachein': 3851, 'manju': 2750, 'taani': 4426, 'kouhei': 2496, 'sweety': 4413, 'shantimoy': 4019, 'balan': 363, 'kadhir': 2416, 'leatherface': 2562, 'chucky': 806, 'thamban': 4504, 'exorcism': 1562, 'sammi': 3878, 'kharis': 2447, 'shuya': 4071, 'indhiran': 2209, 'merrin': 2852, 'talos': 4440, 'swann': 4410, 'gallico': 1828, 'rudra': 3827, 'arivu': 233, 'assange': 276, 'lestat': 2583}\n"
     ]
    }
   ],
   "source": [
    "print(\"TF-IDF Matrix:\")\n",
    "print(tfidf_matrix.toarray())\n",
    "print(tfidf_matrix.shape)\n",
    "\n",
    "print(ex_TfidfVectorizer.vocabulary_)"
   ]
  },
  {
   "cell_type": "code",
   "execution_count": 477,
   "id": "a8913c4f",
   "metadata": {},
   "outputs": [
    {
     "data": {
      "text/plain": [
       "array(['aaron', 'aarti', 'abandon', 'abandoned', 'abandoning', 'abandons',\n",
       "       'abby', 'abel', 'abhi', 'abilities', 'ability', 'able', 'aboard',\n",
       "       'abortion', 'abroad', 'abruptly', 'absence', 'abuse', 'abusive',\n",
       "       'academy'], dtype=object)"
      ]
     },
     "execution_count": 477,
     "metadata": {},
     "output_type": "execute_result"
    }
   ],
   "source": [
    "ex_TfidfVectorizer.get_feature_names_out()[:20]"
   ]
  },
  {
   "cell_type": "code",
   "execution_count": null,
   "id": "3922d053",
   "metadata": {},
   "outputs": [],
   "source": []
  },
  {
   "cell_type": "code",
   "execution_count": 478,
   "id": "866382e7",
   "metadata": {
    "scrolled": true
   },
   "outputs": [],
   "source": [
    "X_train, X_test, y_train, y_test=train_test_split(tfidf_matrix, X_['Genre'], test_size=0.1, random_state=42)"
   ]
  },
  {
   "cell_type": "code",
   "execution_count": 479,
   "id": "6a941332",
   "metadata": {},
   "outputs": [],
   "source": [
    "model = LogisticRegression(max_iter=300)"
   ]
  },
  {
   "cell_type": "code",
   "execution_count": 480,
   "id": "ed928cee",
   "metadata": {},
   "outputs": [],
   "source": [
    "from sklearn.model_selection import cross_val_score\n",
    "k = 5\n",
    "cv_scores = cross_val_score(model, tfidf_matrix, X_['Genre'], cv=k, scoring='accuracy')"
   ]
  },
  {
   "cell_type": "code",
   "execution_count": 481,
   "id": "344b8b37",
   "metadata": {},
   "outputs": [
    {
     "data": {
      "text/html": [
       "<style>#sk-container-id-34 {color: black;}#sk-container-id-34 pre{padding: 0;}#sk-container-id-34 div.sk-toggleable {background-color: white;}#sk-container-id-34 label.sk-toggleable__label {cursor: pointer;display: block;width: 100%;margin-bottom: 0;padding: 0.3em;box-sizing: border-box;text-align: center;}#sk-container-id-34 label.sk-toggleable__label-arrow:before {content: \"▸\";float: left;margin-right: 0.25em;color: #696969;}#sk-container-id-34 label.sk-toggleable__label-arrow:hover:before {color: black;}#sk-container-id-34 div.sk-estimator:hover label.sk-toggleable__label-arrow:before {color: black;}#sk-container-id-34 div.sk-toggleable__content {max-height: 0;max-width: 0;overflow: hidden;text-align: left;background-color: #f0f8ff;}#sk-container-id-34 div.sk-toggleable__content pre {margin: 0.2em;color: black;border-radius: 0.25em;background-color: #f0f8ff;}#sk-container-id-34 input.sk-toggleable__control:checked~div.sk-toggleable__content {max-height: 200px;max-width: 100%;overflow: auto;}#sk-container-id-34 input.sk-toggleable__control:checked~label.sk-toggleable__label-arrow:before {content: \"▾\";}#sk-container-id-34 div.sk-estimator input.sk-toggleable__control:checked~label.sk-toggleable__label {background-color: #d4ebff;}#sk-container-id-34 div.sk-label input.sk-toggleable__control:checked~label.sk-toggleable__label {background-color: #d4ebff;}#sk-container-id-34 input.sk-hidden--visually {border: 0;clip: rect(1px 1px 1px 1px);clip: rect(1px, 1px, 1px, 1px);height: 1px;margin: -1px;overflow: hidden;padding: 0;position: absolute;width: 1px;}#sk-container-id-34 div.sk-estimator {font-family: monospace;background-color: #f0f8ff;border: 1px dotted black;border-radius: 0.25em;box-sizing: border-box;margin-bottom: 0.5em;}#sk-container-id-34 div.sk-estimator:hover {background-color: #d4ebff;}#sk-container-id-34 div.sk-parallel-item::after {content: \"\";width: 100%;border-bottom: 1px solid gray;flex-grow: 1;}#sk-container-id-34 div.sk-label:hover label.sk-toggleable__label {background-color: #d4ebff;}#sk-container-id-34 div.sk-serial::before {content: \"\";position: absolute;border-left: 1px solid gray;box-sizing: border-box;top: 0;bottom: 0;left: 50%;z-index: 0;}#sk-container-id-34 div.sk-serial {display: flex;flex-direction: column;align-items: center;background-color: white;padding-right: 0.2em;padding-left: 0.2em;position: relative;}#sk-container-id-34 div.sk-item {position: relative;z-index: 1;}#sk-container-id-34 div.sk-parallel {display: flex;align-items: stretch;justify-content: center;background-color: white;position: relative;}#sk-container-id-34 div.sk-item::before, #sk-container-id-34 div.sk-parallel-item::before {content: \"\";position: absolute;border-left: 1px solid gray;box-sizing: border-box;top: 0;bottom: 0;left: 50%;z-index: -1;}#sk-container-id-34 div.sk-parallel-item {display: flex;flex-direction: column;z-index: 1;position: relative;background-color: white;}#sk-container-id-34 div.sk-parallel-item:first-child::after {align-self: flex-end;width: 50%;}#sk-container-id-34 div.sk-parallel-item:last-child::after {align-self: flex-start;width: 50%;}#sk-container-id-34 div.sk-parallel-item:only-child::after {width: 0;}#sk-container-id-34 div.sk-dashed-wrapped {border: 1px dashed gray;margin: 0 0.4em 0.5em 0.4em;box-sizing: border-box;padding-bottom: 0.4em;background-color: white;}#sk-container-id-34 div.sk-label label {font-family: monospace;font-weight: bold;display: inline-block;line-height: 1.2em;}#sk-container-id-34 div.sk-label-container {text-align: center;}#sk-container-id-34 div.sk-container {/* jupyter's `normalize.less` sets `[hidden] { display: none; }` but bootstrap.min.css set `[hidden] { display: none !important; }` so we also need the `!important` here to be able to override the default hidden behavior on the sphinx rendered scikit-learn.org. See: https://github.com/scikit-learn/scikit-learn/issues/21755 */display: inline-block !important;position: relative;}#sk-container-id-34 div.sk-text-repr-fallback {display: none;}</style><div id=\"sk-container-id-34\" class=\"sk-top-container\"><div class=\"sk-text-repr-fallback\"><pre>LogisticRegression(max_iter=300)</pre><b>In a Jupyter environment, please rerun this cell to show the HTML representation or trust the notebook. <br />On GitHub, the HTML representation is unable to render, please try loading this page with nbviewer.org.</b></div><div class=\"sk-container\" hidden><div class=\"sk-item\"><div class=\"sk-estimator sk-toggleable\"><input class=\"sk-toggleable__control sk-hidden--visually\" id=\"sk-estimator-id-34\" type=\"checkbox\" checked><label for=\"sk-estimator-id-34\" class=\"sk-toggleable__label sk-toggleable__label-arrow\">LogisticRegression</label><div class=\"sk-toggleable__content\"><pre>LogisticRegression(max_iter=300)</pre></div></div></div></div></div>"
      ],
      "text/plain": [
       "LogisticRegression(max_iter=300)"
      ]
     },
     "execution_count": 481,
     "metadata": {},
     "output_type": "execute_result"
    }
   ],
   "source": [
    "model.fit(X_train, y_train)"
   ]
  },
  {
   "cell_type": "code",
   "execution_count": 482,
   "id": "583e4f06",
   "metadata": {},
   "outputs": [
    {
     "name": "stdout",
     "output_type": "stream",
     "text": [
      "8464     1\n",
      "14057    4\n",
      "16057    0\n",
      "5218     3\n",
      "7495     0\n",
      "14963    4\n",
      "6306     1\n",
      "4954     1\n",
      "12665    5\n",
      "3324     5\n",
      "14966    4\n",
      "17006    1\n",
      "15925    5\n",
      "14041    4\n",
      "5130     0\n",
      "5384     3\n",
      "16069    2\n",
      "9927     1\n",
      "7172     1\n",
      "5860     5\n",
      "Name: Genre, dtype: int32\n",
      "[0 0 5 3 0 4 1 1 5 0 4 1 4 4 0 3 2 1 1 5]\n"
     ]
    }
   ],
   "source": [
    "y_pred = model.predict(X_test)\n",
    "\n",
    "print(y_test[:20])\n",
    "print(y_pred[:20])"
   ]
  },
  {
   "cell_type": "code",
   "execution_count": 483,
   "id": "9853cc5d",
   "metadata": {},
   "outputs": [
    {
     "name": "stdout",
     "output_type": "stream",
     "text": [
      "Accuracy: 0.60\n"
     ]
    }
   ],
   "source": [
    "accuracy = accuracy_score(y_test, y_pred)\n",
    "print(f\"Accuracy: {accuracy:.2f}\")"
   ]
  },
  {
   "cell_type": "code",
   "execution_count": 484,
   "id": "b8cc751b",
   "metadata": {},
   "outputs": [
    {
     "name": "stdout",
     "output_type": "stream",
     "text": [
      "\n",
      "Classification Info:\n",
      "              precision    recall  f1-score   support\n",
      "\n",
      "           0       0.59      0.53      0.56        76\n",
      "           1       0.89      0.75      0.81        64\n",
      "           2       0.49      0.65      0.56        46\n",
      "           3       0.42      0.44      0.43        52\n",
      "           4       0.59      0.62      0.61        61\n",
      "           5       0.67      0.63      0.65        63\n",
      "\n",
      "    accuracy                           0.60       362\n",
      "   macro avg       0.61      0.60      0.60       362\n",
      "weighted avg       0.62      0.60      0.61       362\n",
      "\n"
     ]
    }
   ],
   "source": [
    "# Display the classification report\n",
    "print(\"\\nClassification Info:\")\n",
    "print(classification_report(y_test, y_pred))"
   ]
  },
  {
   "cell_type": "code",
   "execution_count": null,
   "id": "392b12ca",
   "metadata": {},
   "outputs": [],
   "source": []
  },
  {
   "cell_type": "code",
   "execution_count": null,
   "id": "e3860e14",
   "metadata": {},
   "outputs": [],
   "source": []
  }
 ],
 "metadata": {
  "kernelspec": {
   "display_name": "Python 3 (ipykernel)",
   "language": "python",
   "name": "python3"
  },
  "language_info": {
   "codemirror_mode": {
    "name": "ipython",
    "version": 3
   },
   "file_extension": ".py",
   "mimetype": "text/x-python",
   "name": "python",
   "nbconvert_exporter": "python",
   "pygments_lexer": "ipython3",
   "version": "3.9.13"
  }
 },
 "nbformat": 4,
 "nbformat_minor": 5
}
